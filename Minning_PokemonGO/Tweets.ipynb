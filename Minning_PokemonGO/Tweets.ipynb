{
 "cells": [
  {
   "cell_type": "code",
   "execution_count": 2,
   "metadata": {
    "collapsed": true
   },
   "outputs": [],
   "source": [
    "import sqlite3\n",
    "conn = sqlite3.connect('tweets.db')"
   ]
  },
  {
   "cell_type": "code",
   "execution_count": 14,
   "metadata": {
    "collapsed": false
   },
   "outputs": [],
   "source": [
    "import pandas as pd\n",
    "languages = pd.read_sql_query('select * from languages',conn)\n",
    "sources   = pd.read_sql_query('select * from source',conn)\n",
    "locations = pd.read_sql_query('select * from location',conn)"
   ]
  },
  {
   "cell_type": "code",
   "execution_count": 4,
   "metadata": {
    "collapsed": false
   },
   "outputs": [
    {
     "data": {
      "text/html": [
       "<div>\n",
       "<table border=\"1\" class=\"dataframe\">\n",
       "  <thead>\n",
       "    <tr style=\"text-align: right;\">\n",
       "      <th></th>\n",
       "      <th>Language</th>\n",
       "      <th>Number of tweets</th>\n",
       "    </tr>\n",
       "  </thead>\n",
       "  <tbody>\n",
       "    <tr>\n",
       "      <th>0</th>\n",
       "      <td>en</td>\n",
       "      <td>131038</td>\n",
       "    </tr>\n",
       "    <tr>\n",
       "      <th>1</th>\n",
       "      <td>es</td>\n",
       "      <td>33598</td>\n",
       "    </tr>\n",
       "    <tr>\n",
       "      <th>2</th>\n",
       "      <td>fr</td>\n",
       "      <td>13761</td>\n",
       "    </tr>\n",
       "    <tr>\n",
       "      <th>3</th>\n",
       "      <td>ja</td>\n",
       "      <td>12173</td>\n",
       "    </tr>\n",
       "    <tr>\n",
       "      <th>4</th>\n",
       "      <td>pt</td>\n",
       "      <td>10494</td>\n",
       "    </tr>\n",
       "    <tr>\n",
       "      <th>5</th>\n",
       "      <td>in</td>\n",
       "      <td>7310</td>\n",
       "    </tr>\n",
       "    <tr>\n",
       "      <th>6</th>\n",
       "      <td>und</td>\n",
       "      <td>4538</td>\n",
       "    </tr>\n",
       "    <tr>\n",
       "      <th>7</th>\n",
       "      <td>ru</td>\n",
       "      <td>2481</td>\n",
       "    </tr>\n",
       "    <tr>\n",
       "      <th>8</th>\n",
       "      <td>tr</td>\n",
       "      <td>2458</td>\n",
       "    </tr>\n",
       "    <tr>\n",
       "      <th>9</th>\n",
       "      <td>de</td>\n",
       "      <td>1467</td>\n",
       "    </tr>\n",
       "  </tbody>\n",
       "</table>\n",
       "</div>"
      ],
      "text/plain": [
       "  Language  Number of tweets\n",
       "0       en            131038\n",
       "1       es             33598\n",
       "2       fr             13761\n",
       "3       ja             12173\n",
       "4       pt             10494\n",
       "5       in              7310\n",
       "6      und              4538\n",
       "7       ru              2481\n",
       "8       tr              2458\n",
       "9       de              1467"
      ]
     },
     "execution_count": 4,
     "metadata": {},
     "output_type": "execute_result"
    }
   ],
   "source": [
    "first10_langs = languages.iloc[:10,[1,2]]\n",
    "first10_langs"
   ]
  },
  {
   "cell_type": "code",
   "execution_count": 33,
   "metadata": {
    "collapsed": false
   },
   "outputs": [
    {
     "data": {
      "image/png": "[encoded data removed]",
      "text/plain": [
       "<matplotlib.figure.Figure at 0x11afd2470>"
      ]
     },
     "metadata": {},
     "output_type": "display_data"
    }
   ],
   "source": [
    "%matplotlib inline\n",
    "import seaborn as sns\n",
    "sns.set(style=\"white\")\n",
    "import matplotlib.pyplot as plt\n",
    "plt.rcParams['xtick.labelsize']= 12\n",
    "plt.rcParams['ytick.labelsize']= 12\n",
    "plt.rcParams['axes.labelsize'] = 14\n",
    "fig = plt.figure(figsize=(10, 7))\n",
    "ax=fig.add_subplot(1,1,1)\n",
    "sns.barplot(x=\"Number of tweets\", y=\"Language\", data=first10_langs,\n",
    "            label=\"Total\", palette=\"BuPu_r\",ax=ax);\n",
    "ax.grid(axis='x')\n",
    "ax.set_frame_on(False)\n",
    "ax.set_xlabel('')\n",
    "ax.set_title('Number of tweets by language',size=16)\n",
    "ax.set_xlim(0,130000)\n",
    "\n",
    "xticks = [item for item in ax.get_xticks()]\n",
    "xticks = [str(int(label/1000))+'K' for label in xticks]\n",
    "ax.set_xticklabels(xticks)\n",
    "ax.set_ylabel('')\n",
    "fig.savefig('Language.png');"
   ]
  },
  {
   "cell_type": "code",
   "execution_count": 35,
   "metadata": {
    "collapsed": true
   },
   "outputs": [],
   "source": [
    "yticks = ['English','Spanish','French','Japanise','Portuguese','Indonesian','Undetermined','Russian','Turkish',\n",
    "          'German']\n"
   ]
  },
  {
   "cell_type": "code",
   "execution_count": 36,
   "metadata": {
    "collapsed": false
   },
   "outputs": [
    {
     "data": {
      "image/png": "[encoded data removed]",
      "text/plain": [
       "<matplotlib.figure.Figure at 0x119747080>"
      ]
     },
     "metadata": {},
     "output_type": "display_data"
    }
   ],
   "source": [
    "%matplotlib inline\n",
    "import seaborn as sns\n",
    "sns.set(style=\"white\")\n",
    "import matplotlib.pyplot as plt\n",
    "plt.rcParams['xtick.labelsize']= 12\n",
    "plt.rcParams['ytick.labelsize']= 12\n",
    "plt.rcParams['axes.labelsize'] = 14\n",
    "fig = plt.figure(figsize=(10, 7))\n",
    "ax=fig.add_subplot(1,1,1)\n",
    "sns.barplot(x=\"Number of tweets\", y=\"Language\", data=first10_langs,\n",
    "            label=\"Total\", palette=\"BuPu_r\",ax=ax);\n",
    "ax.grid(axis='x')\n",
    "ax.set_frame_on(False)\n",
    "ax.set_xlabel('')\n",
    "ax.set_title('Number of tweets by language',size=16)\n",
    "ax.set_xlim(0,130000)\n",
    "\n",
    "xticks = [item for item in ax.get_xticks()]\n",
    "xticks = [str(int(label/1000))+'K' for label in xticks]\n",
    "ax.set_xticklabels(xticks)\n",
    "ax.set_yticklabels(yticks)\n",
    "ax.set_ylabel('')\n",
    "fig.savefig('Language.png');"
   ]
  },
  {
   "cell_type": "code",
   "execution_count": 6,
   "metadata": {
    "collapsed": false
   },
   "outputs": [
    {
     "data": {
      "text/html": [
       "<div>\n",
       "<table border=\"1\" class=\"dataframe\">\n",
       "  <thead>\n",
       "    <tr style=\"text-align: right;\">\n",
       "      <th></th>\n",
       "      <th>source</th>\n",
       "      <th>Number of tweets</th>\n",
       "    </tr>\n",
       "  </thead>\n",
       "  <tbody>\n",
       "    <tr>\n",
       "      <th>0</th>\n",
       "      <td>Twitter for iPhone</td>\n",
       "      <td>78104</td>\n",
       "    </tr>\n",
       "    <tr>\n",
       "      <th>1</th>\n",
       "      <td>Twitter for Android</td>\n",
       "      <td>54635</td>\n",
       "    </tr>\n",
       "    <tr>\n",
       "      <th>2</th>\n",
       "      <td>Twitter Web Client</td>\n",
       "      <td>31730</td>\n",
       "    </tr>\n",
       "    <tr>\n",
       "      <th>3</th>\n",
       "      <td>Google</td>\n",
       "      <td>13298</td>\n",
       "    </tr>\n",
       "    <tr>\n",
       "      <th>4</th>\n",
       "      <td>TweetDeck</td>\n",
       "      <td>10801</td>\n",
       "    </tr>\n",
       "    <tr>\n",
       "      <th>5</th>\n",
       "      <td>IFTTT</td>\n",
       "      <td>5147</td>\n",
       "    </tr>\n",
       "    <tr>\n",
       "      <th>6</th>\n",
       "      <td>twitterfeed</td>\n",
       "      <td>3688</td>\n",
       "    </tr>\n",
       "    <tr>\n",
       "      <th>7</th>\n",
       "      <td>Twitter for iPad</td>\n",
       "      <td>3080</td>\n",
       "    </tr>\n",
       "    <tr>\n",
       "      <th>8</th>\n",
       "      <td>dlvr.it</td>\n",
       "      <td>2195</td>\n",
       "    </tr>\n",
       "    <tr>\n",
       "      <th>9</th>\n",
       "      <td>Mobile Web (M5)</td>\n",
       "      <td>1770</td>\n",
       "    </tr>\n",
       "  </tbody>\n",
       "</table>\n",
       "</div>"
      ],
      "text/plain": [
       "                source  Number of tweets\n",
       "0   Twitter for iPhone             78104\n",
       "1  Twitter for Android             54635\n",
       "2   Twitter Web Client             31730\n",
       "3               Google             13298\n",
       "4            TweetDeck             10801\n",
       "5                IFTTT              5147\n",
       "6          twitterfeed              3688\n",
       "7     Twitter for iPad              3080\n",
       "8              dlvr.it              2195\n",
       "9      Mobile Web (M5)              1770"
      ]
     },
     "execution_count": 6,
     "metadata": {},
     "output_type": "execute_result"
    }
   ],
   "source": [
    "first10_sources = sources.iloc[:10,[1,2]]\n",
    "first10_sources"
   ]
  },
  {
   "cell_type": "code",
   "execution_count": 7,
   "metadata": {
    "collapsed": false
   },
   "outputs": [
    {
     "data": {
      "image/png": "[encoded data removed]",
      "text/plain": [
       "<matplotlib.figure.Figure at 0x1153f3f28>"
      ]
     },
     "metadata": {},
     "output_type": "display_data"
    }
   ],
   "source": [
    "import seaborn as sns\n",
    "sns.set(style=\"white\")\n",
    "import matplotlib.pyplot as plt\n",
    "plt.rcParams['xtick.labelsize']= 12\n",
    "plt.rcParams['ytick.labelsize']= 12\n",
    "plt.rcParams['axes.labelsize'] = 14\n",
    "fig = plt.figure(figsize=(10, 7))\n",
    "ax=fig.add_subplot(1,1,1)\n",
    "sns.barplot(x=\"Number of tweets\", y=\"source\", data=first10_sources,\n",
    "            label=\"Total\", palette=\"BuPu_r\",ax=ax);\n",
    "ax.grid(axis='x')\n",
    "ax.set_frame_on(False)\n",
    "ax.set_xlabel('')\n",
    "ax.set_title('Number of tweets by source',size=16)\n",
    "ax.set_xlim(0,79000)\n",
    "xticks = [item for item in ax.get_xticks()]\n",
    "xticks = [str(int(label/1000))+'K' for label in xticks]\n",
    "ax.set_xticklabels(xticks)\n",
    "ax.set_ylabel('')\n",
    "yticks = ['iPhone','Android','Web Client','Google','TweetDeck','IFTTT','twitterfeed','iPad','dlvr.it','Mobile Web']\n",
    "ax.set_yticklabels(yticks)\n",
    "#fig.subplots_adjust(left=0.2)\n",
    "fig.savefig('Sources.png');"
   ]
  },
  {
   "cell_type": "code",
   "execution_count": 8,
   "metadata": {
    "collapsed": false
   },
   "outputs": [],
   "source": [
    "yticks = [item.get_text() for item in ax.get_yticklabels()]\n",
    "yticks = [label for label in yticks]\n",
    "yticks = ['iPhone','Android','Web Client','Google','TweetDeck','IFTTT','twitterfeed','iPad','dlvr.it','Mobile Web']"
   ]
  },
  {
   "cell_type": "code",
   "execution_count": 28,
   "metadata": {
    "collapsed": false
   },
   "outputs": [
    {
     "data": {
      "text/html": [
       "<div>\n",
       "<table border=\"1\" class=\"dataframe\">\n",
       "  <thead>\n",
       "    <tr style=\"text-align: right;\">\n",
       "      <th></th>\n",
       "      <th>location</th>\n",
       "      <th>Number of tweets</th>\n",
       "    </tr>\n",
       "  </thead>\n",
       "  <tbody>\n",
       "    <tr>\n",
       "      <th>1</th>\n",
       "      <td>United States</td>\n",
       "      <td>1801</td>\n",
       "    </tr>\n",
       "    <tr>\n",
       "      <th>2</th>\n",
       "      <td>Los Angeles, CA</td>\n",
       "      <td>858</td>\n",
       "    </tr>\n",
       "    <tr>\n",
       "      <th>3</th>\n",
       "      <td>California, USA</td>\n",
       "      <td>696</td>\n",
       "    </tr>\n",
       "    <tr>\n",
       "      <th>4</th>\n",
       "      <td>New York, USA</td>\n",
       "      <td>661</td>\n",
       "    </tr>\n",
       "    <tr>\n",
       "      <th>5</th>\n",
       "      <td>France</td>\n",
       "      <td>617</td>\n",
       "    </tr>\n",
       "    <tr>\n",
       "      <th>6</th>\n",
       "      <td>USA</td>\n",
       "      <td>593</td>\n",
       "    </tr>\n",
       "    <tr>\n",
       "      <th>7</th>\n",
       "      <td>México</td>\n",
       "      <td>576</td>\n",
       "    </tr>\n",
       "    <tr>\n",
       "      <th>8</th>\n",
       "      <td>Canada</td>\n",
       "      <td>574</td>\n",
       "    </tr>\n",
       "    <tr>\n",
       "      <th>9</th>\n",
       "      <td>London, England</td>\n",
       "      <td>566</td>\n",
       "    </tr>\n",
       "    <tr>\n",
       "      <th>10</th>\n",
       "      <td>Indonesia</td>\n",
       "      <td>510</td>\n",
       "    </tr>\n",
       "    <tr>\n",
       "      <th>11</th>\n",
       "      <td>Brasil</td>\n",
       "      <td>476</td>\n",
       "    </tr>\n",
       "    <tr>\n",
       "      <th>12</th>\n",
       "      <td>Argentina</td>\n",
       "      <td>447</td>\n",
       "    </tr>\n",
       "  </tbody>\n",
       "</table>\n",
       "</div>"
      ],
      "text/plain": [
       "           location  Number of tweets\n",
       "1     United States              1801\n",
       "2   Los Angeles, CA               858\n",
       "3   California, USA               696\n",
       "4     New York, USA               661\n",
       "5            France               617\n",
       "6               USA               593\n",
       "7            México               576\n",
       "8            Canada               574\n",
       "9   London, England               566\n",
       "10        Indonesia               510\n",
       "11           Brasil               476\n",
       "12        Argentina               447"
      ]
     },
     "execution_count": 28,
     "metadata": {},
     "output_type": "execute_result"
    }
   ],
   "source": [
    "first10_loc = locations.iloc[1:13,[1,2]]\n",
    "first10_loc"
   ]
  },
  {
   "cell_type": "code",
   "execution_count": 29,
   "metadata": {
    "collapsed": false
   },
   "outputs": [
    {
     "data": {
      "image/png": "[encoded data removed]",
      "text/plain": [
       "<matplotlib.figure.Figure at 0x115603208>"
      ]
     },
     "metadata": {},
     "output_type": "display_data"
    }
   ],
   "source": [
    "import seaborn as sns\n",
    "sns.set(style=\"white\")\n",
    "import matplotlib.pyplot as plt\n",
    "plt.rcParams['xtick.labelsize']= 12\n",
    "plt.rcParams['ytick.labelsize']= 12\n",
    "plt.rcParams['axes.labelsize'] = 14\n",
    "fig = plt.figure(figsize=(10, 7))\n",
    "ax=fig.add_subplot(1,1,1)\n",
    "sns.barplot(x=\"Number of tweets\", y=\"location\", data=first10_loc,\n",
    "            label=\"Total\", palette=\"BuPu_r\",ax=ax);\n",
    "ax.grid(axis='x')\n",
    "ax.set_frame_on(False)\n",
    "ax.set_xlabel('')\n",
    "ax.set_title('Number of tweets by location',size=16)\n",
    "ax.set_xlim(0,1810)\n",
    "#xticks = [item for item in ax.get_xticks()]\n",
    "#xticks = [str(int(label/100))+'K' for label in xticks]\n",
    "#ax.set_xticklabels(xticks)\n",
    "ax.set_ylabel('')\n",
    "fig.savefig('Location.png');"
   ]
  },
  {
   "cell_type": "code",
   "execution_count": 31,
   "metadata": {
    "collapsed": false
   },
   "outputs": [
    {
     "data": {
      "text/plain": [
       "['United States',\n",
       " 'Los Angeles',\n",
       " 'California',\n",
       " 'New York',\n",
       " 'France',\n",
       " 'USA',\n",
       " 'México',\n",
       " 'Canada',\n",
       " 'London',\n",
       " 'Indonesia',\n",
       " 'Brasil',\n",
       " 'Argentina']"
      ]
     },
     "execution_count": 31,
     "metadata": {},
     "output_type": "execute_result"
    }
   ],
   "source": [
    "yticks = [item.get_text() for item in ax.get_yticklabels()]\n",
    "yticks = [label.split(',')[0] for label in yticks]\n",
    "yticks"
   ]
  },
  {
   "cell_type": "code",
   "execution_count": 32,
   "metadata": {
    "collapsed": false
   },
   "outputs": [
    {
     "data": {
      "image/png": "[encoded data removed]",
      "text/plain": [
       "<matplotlib.figure.Figure at 0x115641160>"
      ]
     },
     "metadata": {},
     "output_type": "display_data"
    }
   ],
   "source": [
    "import seaborn as sns\n",
    "sns.set(style=\"white\")\n",
    "import matplotlib.pyplot as plt\n",
    "plt.rcParams['xtick.labelsize']= 12\n",
    "plt.rcParams['ytick.labelsize']= 12\n",
    "plt.rcParams['axes.labelsize'] = 14\n",
    "fig = plt.figure(figsize=(10, 7))\n",
    "ax=fig.add_subplot(1,1,1)\n",
    "sns.barplot(x=\"Number of tweets\", y=\"location\", data=first10_loc,\n",
    "            label=\"Total\", palette=\"BuPu_r\",ax=ax);\n",
    "ax.grid(axis='x')\n",
    "ax.set_frame_on(False)\n",
    "ax.set_xlabel('')\n",
    "ax.set_title('Number of tweets by location',size=16)\n",
    "ax.set_xlim(0,1810)\n",
    "#xticks = [item for item in ax.get_xticks()]\n",
    "#xticks = [str(int(label/100))+'K' for label in xticks]\n",
    "ax.set_yticklabels(yticks)\n",
    "ax.set_ylabel('')\n",
    "fig.savefig('Location.png');"
   ]
  },
  {
   "cell_type": "markdown",
   "metadata": {},
   "source": [
    "## Sentimental analysis"
   ]
  },
  {
   "cell_type": "code",
   "execution_count": 9,
   "metadata": {
    "collapsed": false
   },
   "outputs": [],
   "source": [
    "tweets   = pd.read_sql_query('select content from tweets where lang = \"en\"',conn)"
   ]
  },
  {
   "cell_type": "code",
   "execution_count": 11,
   "metadata": {
    "collapsed": false,
    "scrolled": true
   },
   "outputs": [
    {
     "data": {
      "text/plain": [
       "TextBlob(\"If another mf say sum sweet about Pokemon Go 🗣I'm fucking 👏🏽 beating 👏🏽they ass! 👏🏽\")"
      ]
     },
     "execution_count": 11,
     "metadata": {},
     "output_type": "execute_result"
    }
   ],
   "source": [
    "from textblob import TextBlob\n",
    "sentence=tweets.iloc[0,0]\n",
    "test = TextBlob(sentence)\n",
    "\n",
    "#print(test.polarity,test.subjectivity)\n",
    "test"
   ]
  },
  {
   "cell_type": "code",
   "execution_count": 12,
   "metadata": {
    "collapsed": false
   },
   "outputs": [],
   "source": [
    "tweets['polarity'] = tweets['content'].apply(lambda x: TextBlob(x).sentiment.polarity)"
   ]
  },
  {
   "cell_type": "code",
   "execution_count": 13,
   "metadata": {
    "collapsed": true
   },
   "outputs": [],
   "source": [
    "tweets['subjectivity'] = tweets['content'].apply(lambda x: TextBlob(x).sentiment.subjectivity)"
   ]
  },
  {
   "cell_type": "code",
   "execution_count": 246,
   "metadata": {
    "collapsed": false
   },
   "outputs": [
    {
     "data": {
      "text/plain": [
       "<matplotlib.axes._subplots.AxesSubplot at 0x1287dbb00>"
      ]
     },
     "execution_count": 246,
     "metadata": {},
     "output_type": "execute_result"
    },
    {
     "data": {
      "image/png": "[encoded data removed]",
      "text/plain": [
       "<matplotlib.figure.Figure at 0x12848d400>"
      ]
     },
     "metadata": {},
     "output_type": "display_data"
    }
   ],
   "source": [
    "tweets['polarity'].hist(bins=20)"
   ]
  },
  {
   "cell_type": "code",
   "execution_count": 248,
   "metadata": {
    "collapsed": false
   },
   "outputs": [
    {
     "data": {
      "text/plain": [
       "<matplotlib.axes._subplots.AxesSubplot at 0x1288854e0>"
      ]
     },
     "execution_count": 248,
     "metadata": {},
     "output_type": "execute_result"
    },
    {
     "data": {
      "image/png": "[encoded data removed]",
      "text/plain": [
       "<matplotlib.figure.Figure at 0x128ac3940>"
      ]
     },
     "metadata": {},
     "output_type": "display_data"
    }
   ],
   "source": [
    "tweets['subjectivity'].hist(bins=20)"
   ]
  },
  {
   "cell_type": "code",
   "execution_count": 306,
   "metadata": {
    "collapsed": false
   },
   "outputs": [],
   "source": [
    "positive=tweets[tweets['polarity']>0]\n",
    "negative=tweets[tweets['polarity']<0]\n",
    "neutral = tweets[tweets['polarity']==0]"
   ]
  },
  {
   "cell_type": "code",
   "execution_count": 308,
   "metadata": {
    "collapsed": false
   },
   "outputs": [
    {
     "name": "stdout",
     "output_type": "stream",
     "text": [
      "49780 20026 61232\n"
     ]
    }
   ],
   "source": [
    "print(len(positive),len(negative),len(neutral))"
   ]
  },
  {
   "cell_type": "code",
   "execution_count": 305,
   "metadata": {
    "collapsed": false,
    "scrolled": true
   },
   "outputs": [
    {
     "data": {
      "image/png": "[encoded data removed]",
      "text/plain": [
       "<matplotlib.figure.Figure at 0x129986128>"
      ]
     },
     "metadata": {},
     "output_type": "display_data"
    }
   ],
   "source": [
    "plt.rcParams['font.size']=16\n",
    "plt.rcParams['legend.fontsize']=16\n",
    "labels = ['positive', 'negative', 'neutral']\n",
    "sizes = [len(positive),len(negative),len(neutral)]\n",
    "colors = ['#00b300', '#ff4d4d', '#00ffff']\n",
    "explode = (0.1, 0, 0)  # only \"explode\" the 2nd slice (i.e. 'Hogs')\n",
    "plt.pie(sizes, explode=explode, labels=labels, colors=colors,\n",
    "        autopct='%1.1f%%', shadow=True, startangle=90)\n",
    "plt.axis('equal');"
   ]
  },
  {
   "cell_type": "code",
   "execution_count": 303,
   "metadata": {
    "collapsed": true
   },
   "outputs": [
    {
     "data": {
      "text/plain": [
       "<bound method RcParams.keys of RcParams({'agg.path.chunksize': 0,\n",
       "          'animation.avconv_args': [],\n",
       "          'animation.avconv_path': 'avconv',\n",
       "          'animation.bitrate': -1,\n",
       "          'animation.codec': 'mpeg4',\n",
       "          'animation.convert_args': [],\n",
       "          'animation.convert_path': 'convert',\n",
       "          'animation.ffmpeg_args': [],\n",
       "          'animation.ffmpeg_path': 'ffmpeg',\n",
       "          'animation.frame_format': 'png',\n",
       "          'animation.html': 'none',\n",
       "          'animation.mencoder_args': [],\n",
       "          'animation.mencoder_path': 'mencoder',\n",
       "          'animation.writer': 'ffmpeg',\n",
       "          'axes.axisbelow': True,\n",
       "          'axes.edgecolor': '.15',\n",
       "          'axes.facecolor': 'white',\n",
       "          'axes.formatter.limits': [-7, 7],\n",
       "          'axes.formatter.use_locale': False,\n",
       "          'axes.formatter.use_mathtext': False,\n",
       "          'axes.formatter.useoffset': True,\n",
       "          'axes.grid': False,\n",
       "          'axes.grid.axis': 'both',\n",
       "          'axes.grid.which': 'major',\n",
       "          'axes.hold': True,\n",
       "          'axes.labelcolor': '.15',\n",
       "          'axes.labelpad': 5.0,\n",
       "          'axes.labelsize': 11.0,\n",
       "          'axes.labelweight': 'normal',\n",
       "          'axes.linewidth': 1.25,\n",
       "          'axes.prop_cycle': cycler('color', [(0.2823529411764706, 0.47058823529411764, 0.8117647058823529), (0.41568627450980394, 0.8, 0.396078431372549), (0.8392156862745098, 0.37254901960784315, 0.37254901960784315), (0.7058823529411765, 0.48627450980392156, 0.7803921568627451), (0.7686274509803922, 0.6784313725490196, 0.4), (0.4666666666666667, 0.7450980392156863, 0.8588235294117647)]),\n",
       "          'axes.spines.bottom': True,\n",
       "          'axes.spines.left': True,\n",
       "          'axes.spines.right': True,\n",
       "          'axes.spines.top': True,\n",
       "          'axes.titlesize': 12.0,\n",
       "          'axes.titleweight': 'normal',\n",
       "          'axes.unicode_minus': True,\n",
       "          'axes.xmargin': 0.0,\n",
       "          'axes.ymargin': 0.0,\n",
       "          'axes3d.grid': True,\n",
       "          'backend': 'module://ipykernel.pylab.backend_inline',\n",
       "          'backend.qt4': 'PyQt4',\n",
       "          'backend.qt5': 'PyQt5',\n",
       "          'backend_fallback': True,\n",
       "          'boxplot.bootstrap': None,\n",
       "          'boxplot.boxprops.color': 'b',\n",
       "          'boxplot.boxprops.linestyle': '-',\n",
       "          'boxplot.boxprops.linewidth': 1.0,\n",
       "          'boxplot.capprops.color': 'k',\n",
       "          'boxplot.capprops.linestyle': '-',\n",
       "          'boxplot.capprops.linewidth': 1.0,\n",
       "          'boxplot.flierprops.color': 'b',\n",
       "          'boxplot.flierprops.linestyle': 'none',\n",
       "          'boxplot.flierprops.linewidth': 1.0,\n",
       "          'boxplot.flierprops.marker': '+',\n",
       "          'boxplot.flierprops.markeredgecolor': 'k',\n",
       "          'boxplot.flierprops.markerfacecolor': 'b',\n",
       "          'boxplot.flierprops.markersize': 6.0,\n",
       "          'boxplot.meanline': False,\n",
       "          'boxplot.meanprops.color': 'r',\n",
       "          'boxplot.meanprops.linestyle': '-',\n",
       "          'boxplot.meanprops.linewidth': 1.0,\n",
       "          'boxplot.medianprops.color': 'r',\n",
       "          'boxplot.medianprops.linestyle': '-',\n",
       "          'boxplot.medianprops.linewidth': 1.0,\n",
       "          'boxplot.notch': False,\n",
       "          'boxplot.patchartist': False,\n",
       "          'boxplot.showbox': True,\n",
       "          'boxplot.showcaps': True,\n",
       "          'boxplot.showfliers': True,\n",
       "          'boxplot.showmeans': False,\n",
       "          'boxplot.vertical': True,\n",
       "          'boxplot.whiskerprops.color': 'b',\n",
       "          'boxplot.whiskerprops.linestyle': '--',\n",
       "          'boxplot.whiskerprops.linewidth': 1.0,\n",
       "          'boxplot.whiskers': 1.5,\n",
       "          'contour.corner_mask': True,\n",
       "          'contour.negative_linestyle': 'dashed',\n",
       "          'datapath': '/Users/ofialko/anaconda/lib/python3.5/site-packages/matplotlib/mpl-data',\n",
       "          'docstring.hardcopy': False,\n",
       "          'errorbar.capsize': 3.0,\n",
       "          'examples.directory': '',\n",
       "          'figure.autolayout': False,\n",
       "          'figure.dpi': 80.0,\n",
       "          'figure.edgecolor': (1, 1, 1, 0),\n",
       "          'figure.facecolor': 'white',\n",
       "          'figure.figsize': [8.0, 5.5],\n",
       "          'figure.frameon': True,\n",
       "          'figure.max_open_warning': 20,\n",
       "          'figure.subplot.bottom': 0.125,\n",
       "          'figure.subplot.hspace': 0.2,\n",
       "          'figure.subplot.left': 0.125,\n",
       "          'figure.subplot.right': 0.9,\n",
       "          'figure.subplot.top': 0.9,\n",
       "          'figure.subplot.wspace': 0.2,\n",
       "          'figure.titlesize': 'medium',\n",
       "          'figure.titleweight': 'normal',\n",
       "          'font.cursive': ['Apple Chancery',\n",
       "                           'Textile',\n",
       "                           'Zapf Chancery',\n",
       "                           'Sand',\n",
       "                           'Script MT',\n",
       "                           'Felipa',\n",
       "                           'cursive'],\n",
       "          'font.family': ['sans-serif'],\n",
       "          'font.fantasy': ['Comic Sans MS',\n",
       "                           'Chicago',\n",
       "                           'Charcoal',\n",
       "                           'ImpactWestern',\n",
       "                           'Humor Sans',\n",
       "                           'fantasy'],\n",
       "          'font.monospace': ['Bitstream Vera Sans Mono',\n",
       "                             'DejaVu Sans Mono',\n",
       "                             'Andale Mono',\n",
       "                             'Nimbus Mono L',\n",
       "                             'Courier New',\n",
       "                             'Courier',\n",
       "                             'Fixed',\n",
       "                             'Terminal',\n",
       "                             'monospace'],\n",
       "          'font.sans-serif': ['Arial',\n",
       "                              'Liberation Sans',\n",
       "                              'Bitstream Vera Sans',\n",
       "                              'sans-serif'],\n",
       "          'font.serif': ['Bitstream Vera Serif',\n",
       "                         'DejaVu Serif',\n",
       "                         'New Century Schoolbook',\n",
       "                         'Century Schoolbook L',\n",
       "                         'Utopia',\n",
       "                         'ITC Bookman',\n",
       "                         'Bookman',\n",
       "                         'Nimbus Roman No9 L',\n",
       "                         'Times New Roman',\n",
       "                         'Times',\n",
       "                         'Palatino',\n",
       "                         'Charter',\n",
       "                         'serif'],\n",
       "          'font.size': 12.0,\n",
       "          'font.stretch': 'normal',\n",
       "          'font.style': 'normal',\n",
       "          'font.variant': 'normal',\n",
       "          'font.weight': 'normal',\n",
       "          'grid.alpha': 1.0,\n",
       "          'grid.color': '.8',\n",
       "          'grid.linestyle': '-',\n",
       "          'grid.linewidth': 1.0,\n",
       "          'image.aspect': 'equal',\n",
       "          'image.cmap': 'Greys',\n",
       "          'image.composite_image': True,\n",
       "          'image.interpolation': 'bilinear',\n",
       "          'image.lut': 256,\n",
       "          'image.origin': 'upper',\n",
       "          'image.resample': False,\n",
       "          'interactive': True,\n",
       "          'keymap.all_axes': ['a'],\n",
       "          'keymap.back': ['left', 'c', 'backspace'],\n",
       "          'keymap.forward': ['right', 'v'],\n",
       "          'keymap.fullscreen': ['f', 'ctrl+f'],\n",
       "          'keymap.grid': ['g'],\n",
       "          'keymap.home': ['h', 'r', 'home'],\n",
       "          'keymap.pan': ['p'],\n",
       "          'keymap.quit': ['ctrl+w', 'cmd+w'],\n",
       "          'keymap.save': ['s', 'ctrl+s'],\n",
       "          'keymap.xscale': ['k', 'L'],\n",
       "          'keymap.yscale': ['l'],\n",
       "          'keymap.zoom': ['o'],\n",
       "          'legend.borderaxespad': 0.5,\n",
       "          'legend.borderpad': 0.4,\n",
       "          'legend.columnspacing': 2.0,\n",
       "          'legend.edgecolor': 'inherit',\n",
       "          'legend.facecolor': 'inherit',\n",
       "          'legend.fancybox': False,\n",
       "          'legend.fontsize': 10.0,\n",
       "          'legend.framealpha': None,\n",
       "          'legend.frameon': False,\n",
       "          'legend.handleheight': 0.7,\n",
       "          'legend.handlelength': 2.0,\n",
       "          'legend.handletextpad': 0.8,\n",
       "          'legend.isaxes': True,\n",
       "          'legend.labelspacing': 0.5,\n",
       "          'legend.loc': 'upper right',\n",
       "          'legend.markerscale': 1.0,\n",
       "          'legend.numpoints': 1,\n",
       "          'legend.scatterpoints': 1,\n",
       "          'legend.shadow': False,\n",
       "          'lines.antialiased': True,\n",
       "          'lines.color': 'b',\n",
       "          'lines.dash_capstyle': 'butt',\n",
       "          'lines.dash_joinstyle': 'round',\n",
       "          'lines.linestyle': '-',\n",
       "          'lines.linewidth': 1.75,\n",
       "          'lines.marker': 'None',\n",
       "          'lines.markeredgewidth': 0.0,\n",
       "          'lines.markersize': 7.0,\n",
       "          'lines.solid_capstyle': 'round',\n",
       "          'lines.solid_joinstyle': 'round',\n",
       "          'markers.fillstyle': 'full',\n",
       "          'mathtext.bf': 'serif:bold',\n",
       "          'mathtext.cal': 'cursive',\n",
       "          'mathtext.default': 'it',\n",
       "          'mathtext.fallback_to_cm': True,\n",
       "          'mathtext.fontset': 'cm',\n",
       "          'mathtext.it': 'serif:italic',\n",
       "          'mathtext.rm': 'serif',\n",
       "          'mathtext.sf': 'sans\\\\-serif',\n",
       "          'mathtext.tt': 'monospace',\n",
       "          'nbagg.transparent': True,\n",
       "          'patch.antialiased': True,\n",
       "          'patch.edgecolor': 'k',\n",
       "          'patch.facecolor': (0.2823529411764706,\n",
       "                              0.47058823529411764,\n",
       "                              0.8117647058823529),\n",
       "          'patch.linewidth': 0.3,\n",
       "          'path.effects': [],\n",
       "          'path.simplify': True,\n",
       "          'path.simplify_threshold': 0.1111111111111111,\n",
       "          'path.sketch': None,\n",
       "          'path.snap': True,\n",
       "          'pdf.compression': 6,\n",
       "          'pdf.fonttype': 3,\n",
       "          'pdf.inheritcolor': False,\n",
       "          'pdf.use14corefonts': False,\n",
       "          'pgf.debug': False,\n",
       "          'pgf.preamble': [],\n",
       "          'pgf.rcfonts': True,\n",
       "          'pgf.texsystem': 'xelatex',\n",
       "          'plugins.directory': '.matplotlib_plugins',\n",
       "          'polaraxes.grid': True,\n",
       "          'ps.distiller.res': 6000,\n",
       "          'ps.fonttype': 3,\n",
       "          'ps.papersize': 'letter',\n",
       "          'ps.useafm': False,\n",
       "          'ps.usedistiller': False,\n",
       "          'savefig.bbox': None,\n",
       "          'savefig.directory': '~',\n",
       "          'savefig.dpi': 72.0,\n",
       "          'savefig.edgecolor': 'w',\n",
       "          'savefig.facecolor': 'w',\n",
       "          'savefig.format': 'png',\n",
       "          'savefig.frameon': True,\n",
       "          'savefig.jpeg_quality': 95,\n",
       "          'savefig.orientation': 'portrait',\n",
       "          'savefig.pad_inches': 0.1,\n",
       "          'savefig.transparent': False,\n",
       "          'svg.fonttype': 'path',\n",
       "          'svg.image_inline': True,\n",
       "          'svg.image_noscale': False,\n",
       "          'text.antialiased': True,\n",
       "          'text.color': '.15',\n",
       "          'text.dvipnghack': None,\n",
       "          'text.hinting': 'auto',\n",
       "          'text.hinting_factor': 8,\n",
       "          'text.latex.preamble': [],\n",
       "          'text.latex.preview': False,\n",
       "          'text.latex.unicode': False,\n",
       "          'text.usetex': False,\n",
       "          'timezone': 'UTC',\n",
       "          'tk.window_focus': False,\n",
       "          'toolbar': 'toolbar2',\n",
       "          'verbose.fileo': 'sys.stdout',\n",
       "          'verbose.level': 'silent',\n",
       "          'webagg.open_in_browser': True,\n",
       "          'webagg.port': 8988,\n",
       "          'webagg.port_retries': 50,\n",
       "          'xtick.color': '.15',\n",
       "          'xtick.direction': 'out',\n",
       "          'xtick.labelsize': 10.0,\n",
       "          'xtick.major.pad': 7.0,\n",
       "          'xtick.major.size': 0.0,\n",
       "          'xtick.major.width': 1.0,\n",
       "          'xtick.minor.pad': 4.0,\n",
       "          'xtick.minor.size': 0.0,\n",
       "          'xtick.minor.visible': False,\n",
       "          'xtick.minor.width': 0.5,\n",
       "          'ytick.color': '.15',\n",
       "          'ytick.direction': 'out',\n",
       "          'ytick.labelsize': 10.0,\n",
       "          'ytick.major.pad': 7.0,\n",
       "          'ytick.major.size': 0.0,\n",
       "          'ytick.major.width': 1.0,\n",
       "          'ytick.minor.pad': 4.0,\n",
       "          'ytick.minor.size': 0.0,\n",
       "          'ytick.minor.visible': False,\n",
       "          'ytick.minor.width': 0.5})>"
      ]
     },
     "execution_count": 303,
     "metadata": {},
     "output_type": "execute_result"
    }
   ],
   "source": [
    "plt.rcParams.keys"
   ]
  },
  {
   "cell_type": "code",
   "execution_count": 284,
   "metadata": {
    "collapsed": false
   },
   "outputs": [
    {
     "data": {
      "text/plain": [
       "<matplotlib.axes._subplots.AxesSubplot at 0x12a8735c0>"
      ]
     },
     "execution_count": 284,
     "metadata": {},
     "output_type": "execute_result"
    },
    {
     "data": {
      "image/png": "[encoded data removed]",
      "text/plain": [
       "<matplotlib.figure.Figure at 0x12aff4208>"
      ]
     },
     "metadata": {},
     "output_type": "display_data"
    }
   ],
   "source": [
    "subj = tweets[tweets['subjectivity']>0]\n"
   ]
  }
 ],
 "metadata": {
  "kernelspec": {
   "display_name": "Python 3",
   "language": "python",
   "name": "python3"
  },
  "language_info": {
   "codemirror_mode": {
    "name": "ipython",
    "version": 3
   },
   "file_extension": ".py",
   "mimetype": "text/x-python",
   "name": "python",
   "nbconvert_exporter": "python",
   "pygments_lexer": "ipython3",
   "version": "3.5.1"
  }
 },
 "nbformat": 4,
 "nbformat_minor": 0
}
