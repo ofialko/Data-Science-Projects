{
 "cells": [
  {
   "cell_type": "markdown",
   "metadata": {
    "heading_collapsed": "true",
    "id": "HhExqYnQ5izN",
    "tags": []
   },
   "source": [
    "## Initialize"
   ]
  },
  {
   "cell_type": "code",
   "execution_count": 54,
   "metadata": {
    "executionInfo": {
     "elapsed": 1210,
     "status": "ok",
     "timestamp": 1612158419352,
     "user": {
      "displayName": "Olek Fialko",
      "photoUrl": "",
      "userId": "14285406496126226900"
     },
     "user_tz": -780
    },
    "id": "vs3EKki7Xib8"
   },
   "outputs": [],
   "source": [
    "%reload_ext autoreload\n",
    "%autoreload 2"
   ]
  },
  {
   "cell_type": "code",
   "execution_count": 1,
   "metadata": {
    "colab": {
     "base_uri": "https://localhost:8080/"
    },
    "executionInfo": {
     "elapsed": 20339,
     "status": "ok",
     "timestamp": 1612156844522,
     "user": {
      "displayName": "Olek Fialko",
      "photoUrl": "",
      "userId": "14285406496126226900"
     },
     "user_tz": -780
    },
    "id": "pDWuJwCvQfaX",
    "outputId": "40465c78-7118-4496-aed2-9f7c1b15a2b1"
   },
   "outputs": [
    {
     "name": "stdout",
     "output_type": "stream",
     "text": [
      "Mounted at /content/drive\n"
     ]
    }
   ],
   "source": [
    "# connect to google drive first\n",
    "from google.colab import drive\n",
    "drive.mount('/content/drive')"
   ]
  },
  {
   "cell_type": "markdown",
   "metadata": {
    "heading_collapsed": "true",
    "id": "HUP_3dK2PRzB",
    "tags": []
   },
   "source": [
    "## Collab settings"
   ]
  },
  {
   "cell_type": "code",
   "execution_count": 59,
   "metadata": {
    "colab": {
     "base_uri": "https://localhost:8080/"
    },
    "executionInfo": {
     "elapsed": 1070,
     "status": "ok",
     "timestamp": 1612158510737,
     "user": {
      "displayName": "Olek Fialko",
      "photoUrl": "",
      "userId": "14285406496126226900"
     },
     "user_tz": -780
    },
    "id": "UcEXHkFlCYZ1",
    "outputId": "4f751b74-b456-4d3f-a76c-57850a6304cc"
   },
   "outputs": [
    {
     "name": "stdout",
     "output_type": "stream",
     "text": [
      "True\n",
      "True\n"
     ]
    }
   ],
   "source": [
    "name_notebook = 'Rossman_collab'\n",
    "\n",
    "from pathlib import  Path\n",
    "data = Path(f'/content/drive/MyDrive/data/data_{name_notebook}')\n",
    "print(data.exists())\n",
    "src_path = Path(f'/content/drive/MyDrive/src/src_{name_notebook}')\n",
    "print(src_path.exists())"
   ]
  },
  {
   "cell_type": "code",
   "execution_count": 60,
   "metadata": {
    "executionInfo": {
     "elapsed": 955,
     "status": "ok",
     "timestamp": 1612158513201,
     "user": {
      "displayName": "Olek Fialko",
      "photoUrl": "",
      "userId": "14285406496126226900"
     },
     "user_tz": -780
    },
    "id": "uCsZtoHk7p6v"
   },
   "outputs": [],
   "source": [
    "!cp -r {src_path} ."
   ]
  },
  {
   "cell_type": "code",
   "execution_count": null,
   "metadata": {
    "id": "MSnRT22lnLqk"
   },
   "outputs": [],
   "source": [
    "!pip -q install -r {src_path.name}/requirements.txt"
   ]
  },
  {
   "cell_type": "markdown",
   "metadata": {
    "heading_collapsed": "true",
    "id": "XXoD886VQSep",
    "tags": []
   },
   "source": [
    "## Main\n"
   ]
  },
  {
   "cell_type": "code",
   "execution_count": 62,
   "metadata": {
    "executionInfo": {
     "elapsed": 992,
     "status": "ok",
     "timestamp": 1612158523327,
     "user": {
      "displayName": "Olek Fialko",
      "photoUrl": "",
      "userId": "14285406496126226900"
     },
     "user_tz": -780
    },
    "id": "Sd6VLy1eB6CJ"
   },
   "outputs": [],
   "source": [
    "import pandas as pd\n",
    "import numpy as np\n",
    "\n",
    "from src_Rossman_collab.utils import add_datepart, apply_cats, get_cv_idxs, proc_df\n",
    "from src_Rossman_collab.datasets import ColumnarDataLoader"
   ]
  },
  {
   "cell_type": "markdown",
   "metadata": {
    "heading_collapsed": "true",
    "id": "b_p0vn4JKOxj",
    "tags": []
   },
   "source": [
    "## 01 Create Feaures for modelling"
   ]
  },
  {
   "cell_type": "code",
   "execution_count": 10,
   "metadata": {
    "executionInfo": {
     "elapsed": 4572,
     "status": "ok",
     "timestamp": 1612157187295,
     "user": {
      "displayName": "Olek Fialko",
      "photoUrl": "",
      "userId": "14285406496126226900"
     },
     "user_tz": -780
    },
    "id": "oSMaLqgYYboH"
   },
   "outputs": [],
   "source": [
    "joined      = pd.read_parquet(data / 'joined.p')\n",
    "joined_test = pd.read_parquet(data / 'joined_test.p')"
   ]
  },
  {
   "cell_type": "code",
   "execution_count": 11,
   "metadata": {
    "colab": {
     "base_uri": "https://localhost:8080/"
    },
    "executionInfo": {
     "elapsed": 1126,
     "status": "ok",
     "timestamp": 1612157190986,
     "user": {
      "displayName": "Olek Fialko",
      "photoUrl": "",
      "userId": "14285406496126226900"
     },
     "user_tz": -780
    },
    "id": "8bLrVVYzKRRU",
    "outputId": "4862e326-907d-4088-9ada-70a7a37a8de8"
   },
   "outputs": [
    {
     "name": "stdout",
     "output_type": "stream",
     "text": [
      "844338\n"
     ]
    }
   ],
   "source": [
    "cat_vars = ['Store', 'DayOfWeek', 'Year', 'Month', 'Day', 'StateHoliday', 'CompetitionMonthsOpen',\n",
    "    'Promo2Weeks', 'StoreType', 'Assortment', 'PromoInterval', 'CompetitionOpenSinceYear', 'Promo2SinceYear',\n",
    "    'State', 'Week', 'Events', 'Promo_fw', 'Promo_bw', 'StateHoliday_fw', 'StateHoliday_bw',\n",
    "    'SchoolHoliday_fw', 'SchoolHoliday_bw']\n",
    "\n",
    "contin_vars = ['CompetitionDistance', 'Max_TemperatureC', 'Mean_TemperatureC', 'Min_TemperatureC',\n",
    "   'Max_Humidity', 'Mean_Humidity', 'Min_Humidity', 'Max_Wind_SpeedKm_h', \n",
    "   'Mean_Wind_SpeedKm_h', 'CloudCover', 'trend', 'trend_DE',\n",
    "   'AfterStateHoliday', 'BeforeStateHoliday', 'Promo', 'SchoolHoliday']\n",
    "\n",
    "n = len(joined); print(n)"
   ]
  },
  {
   "cell_type": "code",
   "execution_count": 12,
   "metadata": {
    "executionInfo": {
     "elapsed": 1170,
     "status": "ok",
     "timestamp": 1612157196819,
     "user": {
      "displayName": "Olek Fialko",
      "photoUrl": "",
      "userId": "14285406496126226900"
     },
     "user_tz": -780
    },
    "id": "9mCnkMGoLkXd"
   },
   "outputs": [],
   "source": [
    "dep = 'Sales'\n",
    "joined = joined[cat_vars+contin_vars+[dep, 'Date']].copy()\n",
    "\n",
    "joined_test[dep] = 0\n",
    "joined_test = joined_test[cat_vars+contin_vars+[dep, 'Date', 'Id']].copy()"
   ]
  },
  {
   "cell_type": "code",
   "execution_count": 13,
   "metadata": {
    "executionInfo": {
     "elapsed": 2198,
     "status": "ok",
     "timestamp": 1612157199898,
     "user": {
      "displayName": "Olek Fialko",
      "photoUrl": "",
      "userId": "14285406496126226900"
     },
     "user_tz": -780
    },
    "id": "0ifaq3sOM4Qk"
   },
   "outputs": [],
   "source": [
    "for v in cat_vars: \n",
    "    joined[v] = joined[v].astype('category').cat.as_ordered()\n",
    "apply_cats(joined_test, joined)\n",
    "\n",
    "for v in contin_vars:\n",
    "    joined[v] = joined[v].fillna(0).astype('float32')\n",
    "    joined_test[v] = joined_test[v].fillna(0).astype('float32')"
   ]
  },
  {
   "cell_type": "code",
   "execution_count": 14,
   "metadata": {
    "colab": {
     "base_uri": "https://localhost:8080/"
    },
    "executionInfo": {
     "elapsed": 1292,
     "status": "ok",
     "timestamp": 1612157205728,
     "user": {
      "displayName": "Olek Fialko",
      "photoUrl": "",
      "userId": "14285406496126226900"
     },
     "user_tz": -780
    },
    "id": "0blrXbT3RZP7",
    "outputId": "075141ea-a890-4d89-cea6-5d1e4aefdaf3"
   },
   "outputs": [
    {
     "name": "stdout",
     "output_type": "stream",
     "text": [
      "150000\n"
     ]
    }
   ],
   "source": [
    "# SAMPLE DATA\n",
    "idx_samp = get_cv_idxs(n, val_pct=150000/n)\n",
    "joined_samp = joined.iloc[idx_samp].set_index(\"Date\")\n",
    "samp_size = len(joined_samp); \n",
    "print(samp_size)"
   ]
  },
  {
   "cell_type": "code",
   "execution_count": null,
   "metadata": {
    "id": "s-LD-TxgC2Yg"
   },
   "outputs": [],
   "source": [
    "# FULL DATA\n",
    "samp_size = n\n",
    "joined_samp = joined.set_index(\"Date\")"
   ]
  },
  {
   "cell_type": "code",
   "execution_count": 15,
   "metadata": {
    "executionInfo": {
     "elapsed": 1523,
     "status": "ok",
     "timestamp": 1612157209842,
     "user": {
      "displayName": "Olek Fialko",
      "photoUrl": "",
      "userId": "14285406496126226900"
     },
     "user_tz": -780
    },
    "id": "M6Bqu_5JbJwW"
   },
   "outputs": [],
   "source": [
    "df, y, nas, mapper = proc_df(joined_samp, 'Sales', do_scale=True)\n",
    "yl = np.log(y)\n",
    "\n",
    "joined_test = joined_test.set_index(\"Date\")\n",
    "df_test, _, nas, mapper = proc_df(joined_test, 'Sales', do_scale=True, skip_flds=['Id'],\n",
    "                                  mapper=mapper, na_dict=nas)"
   ]
  },
  {
   "cell_type": "code",
   "execution_count": 16,
   "metadata": {
    "colab": {
     "base_uri": "https://localhost:8080/"
    },
    "executionInfo": {
     "elapsed": 522,
     "status": "ok",
     "timestamp": 1612157210937,
     "user": {
      "displayName": "Olek Fialko",
      "photoUrl": "",
      "userId": "14285406496126226900"
     },
     "user_tz": -780
    },
    "id": "OkKUNGanbeqd",
    "outputId": "9247d611-1be5-4bb7-c61f-d26faeae6ba9"
   },
   "outputs": [
    {
     "name": "stdout",
     "output_type": "stream",
     "text": [
      "112500\n"
     ]
    }
   ],
   "source": [
    "train_ratio = 0.75\n",
    "# train_ratio = 0.9\n",
    "train_size = int(samp_size * train_ratio); print(train_size)\n",
    "val_idx = list(range(train_size, len(df)))"
   ]
  },
  {
   "cell_type": "code",
   "execution_count": null,
   "metadata": {
    "id": "YJOiXZybPRzR"
   },
   "outputs": [],
   "source": []
  },
  {
   "cell_type": "code",
   "execution_count": null,
   "metadata": {
    "id": "1xa0q6NXcnR_"
   },
   "outputs": [],
   "source": [
    "# val_idx = np.flatnonzero(\n",
    "#    (df.index<=datetime.datetime(2014,9,17)) & (df.index>=datetime.datetime(2014,8,1)))"
   ]
  },
  {
   "cell_type": "code",
   "execution_count": null,
   "metadata": {
    "id": "FKveSNaedDiW"
   },
   "outputs": [],
   "source": [
    "val_idx = [0] # for training on all data"
   ]
  },
  {
   "cell_type": "markdown",
   "metadata": {
    "id": "D6v6WW8Heoo3"
   },
   "source": [
    "## DL"
   ]
  },
  {
   "cell_type": "code",
   "execution_count": 70,
   "metadata": {
    "executionInfo": {
     "elapsed": 1060,
     "status": "ok",
     "timestamp": 1612158570329,
     "user": {
      "displayName": "Olek Fialko",
      "photoUrl": "",
      "userId": "14285406496126226900"
     },
     "user_tz": -780
    },
    "id": "YIDBV5NbN1YS"
   },
   "outputs": [],
   "source": [
    "from src_Rossman_collab.tabular_learner import Learner, MixedInputModel, to_gpu"
   ]
  },
  {
   "cell_type": "code",
   "execution_count": 65,
   "metadata": {
    "colab": {
     "base_uri": "https://localhost:8080/"
    },
    "executionInfo": {
     "elapsed": 764,
     "status": "ok",
     "timestamp": 1612158545705,
     "user": {
      "displayName": "Olek Fialko",
      "photoUrl": "",
      "userId": "14285406496126226900"
     },
     "user_tz": -780
    },
    "id": "DhJkSvH9q-iN",
    "outputId": "de0df5a6-fa5b-4bd4-cb1e-db528225f187"
   },
   "outputs": [
    {
     "data": {
      "text/plain": [
       "True"
      ]
     },
     "execution_count": 65,
     "metadata": {
      "tags": []
     },
     "output_type": "execute_result"
    }
   ],
   "source": [
    "torch.cuda.is_available()"
   ]
  },
  {
   "cell_type": "code",
   "execution_count": 66,
   "metadata": {
    "executionInfo": {
     "elapsed": 1131,
     "status": "ok",
     "timestamp": 1612158547442,
     "user": {
      "displayName": "Olek Fialko",
      "photoUrl": "",
      "userId": "14285406496126226900"
     },
     "user_tz": -780
    },
    "id": "5B6RhGmmeqQJ"
   },
   "outputs": [],
   "source": [
    "def exp_rmspe(y_pred, targ):\n",
    "    targ   = np.exp(targ)\n",
    "    y_pred = np.exp(y_pred)\n",
    "    pct_var = (targ - y_pred)/targ\n",
    "    return np.sqrt((pct_var**2).mean())\n",
    "\n",
    "max_log_y = np.max(yl)\n",
    "y_range = (0, max_log_y*1.2)"
   ]
  },
  {
   "cell_type": "code",
   "execution_count": 67,
   "metadata": {
    "executionInfo": {
     "elapsed": 1274,
     "status": "ok",
     "timestamp": 1612158549441,
     "user": {
      "displayName": "Olek Fialko",
      "photoUrl": "",
      "userId": "14285406496126226900"
     },
     "user_tz": -780
    },
    "id": "GiwFnoZwDI3g"
   },
   "outputs": [],
   "source": [
    "cat_sz = [(c, len(joined_samp[c].cat.categories)+1) for c in cat_vars]\n",
    "emb_szs = [(c, min(50, (c+1)//2)) for _,c in cat_sz]"
   ]
  },
  {
   "cell_type": "code",
   "execution_count": 68,
   "metadata": {
    "executionInfo": {
     "elapsed": 1506,
     "status": "ok",
     "timestamp": 1612158555278,
     "user": {
      "displayName": "Olek Fialko",
      "photoUrl": "",
      "userId": "14285406496126226900"
     },
     "user_tz": -780
    },
    "id": "xEVP0ldGPRzW"
   },
   "outputs": [],
   "source": [
    "def get_learner(data, semb_szs, n_cont, emb_drop, out_sz, szs, drops,\n",
    "                    y_range=None, use_bn=False):\n",
    "        model = MixedInputModel(emb_szs, n_cont, emb_drop, out_sz, szs, drops)\n",
    "        return Learner(data, to_gpu(model), opt_fn=optim.Adam,metrics=[exp_rmspe])\n"
   ]
  },
  {
   "cell_type": "code",
   "execution_count": 71,
   "metadata": {
    "executionInfo": {
     "elapsed": 11278,
     "status": "ok",
     "timestamp": 1612158583854,
     "user": {
      "displayName": "Olek Fialko",
      "photoUrl": "",
      "userId": "14285406496126226900"
     },
     "user_tz": -780
    },
    "id": "CzqmzmGdDJyg"
   },
   "outputs": [],
   "source": [
    "md = ColumnarDataLoader.from_data_frame(df, val_idx, \n",
    "                                        yl.astype(np.float32), \n",
    "                                        cat_flds=cat_vars, \n",
    "                                        bs=128,\n",
    "                                        test_df=df_test)\n",
    "\n",
    "m = get_learner(md, emb_szs, len(df.columns)-len(cat_vars),\n",
    "                   0.04, 1, [1000,500], [0.001,0.01], y_range=y_range)\n"
   ]
  },
  {
   "cell_type": "markdown",
   "metadata": {
    "id": "OEjwz35HcKls"
   },
   "source": [
    "## Fitting\n"
   ]
  },
  {
   "cell_type": "code",
   "execution_count": 72,
   "metadata": {
    "colab": {
     "base_uri": "https://localhost:8080/"
    },
    "executionInfo": {
     "elapsed": 10601,
     "status": "ok",
     "timestamp": 1612158622259,
     "user": {
      "displayName": "Olek Fialko",
      "photoUrl": "",
      "userId": "14285406496126226900"
     },
     "user_tz": -780
    },
    "id": "4mymMzvCcDqh",
    "outputId": "be2a4c60-2e86-4394-d1ab-1a87a8f9ff9c"
   },
   "outputs": [
    {
     "name": "stderr",
     "output_type": "stream",
     "text": [
      "Epoch:   0%|          | 0/1 [00:00<?, ?it/s]"
     ]
    },
    {
     "name": "stdout",
     "output_type": "stream",
     "text": [
      "loss: 0.03643504558298772\n"
     ]
    },
    {
     "name": "stderr",
     "output_type": "stream",
     "text": [
      "Epoch: 100%|██████████| 1/1 [00:09<00:00,  9.62s/it]"
     ]
    },
    {
     "name": "stdout",
     "output_type": "stream",
     "text": [
      "[0.       0.036435 0.0332   0.210902]\n"
     ]
    },
    {
     "name": "stderr",
     "output_type": "stream",
     "text": [
      "\n"
     ]
    }
   ],
   "source": [
    "lr = 1e-3\n",
    "m.fit(lr, 1)"
   ]
  },
  {
   "cell_type": "code",
   "execution_count": 73,
   "metadata": {
    "colab": {
     "base_uri": "https://localhost:8080/"
    },
    "executionInfo": {
     "elapsed": 48705,
     "status": "ok",
     "timestamp": 1612158685225,
     "user": {
      "displayName": "Olek Fialko",
      "photoUrl": "",
      "userId": "14285406496126226900"
     },
     "user_tz": -780
    },
    "id": "jeooYc2hgKtG",
    "outputId": "e44f75e8-8fe4-45c7-aa02-027ec4b63c4e"
   },
   "outputs": [
    {
     "name": "stderr",
     "output_type": "stream",
     "text": [
      "Epoch:   0%|          | 0/5 [00:00<?, ?it/s]"
     ]
    },
    {
     "name": "stdout",
     "output_type": "stream",
     "text": [
      "loss: 0.026294755806733856\n"
     ]
    },
    {
     "name": "stderr",
     "output_type": "stream",
     "text": [
      "Epoch:  20%|██        | 1/5 [00:09<00:37,  9.49s/it]"
     ]
    },
    {
     "name": "stdout",
     "output_type": "stream",
     "text": [
      "[0.       0.026295 0.025577 0.17422 ]\n",
      "loss: 0.021735352803326495\n"
     ]
    },
    {
     "name": "stderr",
     "output_type": "stream",
     "text": [
      "Epoch:  40%|████      | 2/5 [00:18<00:28,  9.50s/it]"
     ]
    },
    {
     "name": "stdout",
     "output_type": "stream",
     "text": [
      "[1.       0.021735 0.020561 0.156475]\n",
      "loss: 0.01924942725629197\n"
     ]
    },
    {
     "name": "stderr",
     "output_type": "stream",
     "text": [
      "Epoch:  60%|██████    | 3/5 [00:28<00:19,  9.51s/it]"
     ]
    },
    {
     "name": "stdout",
     "output_type": "stream",
     "text": [
      "[2.       0.019249 0.019354 0.145997]\n",
      "loss: 0.017770700473689147\n"
     ]
    },
    {
     "name": "stderr",
     "output_type": "stream",
     "text": [
      "Epoch:  80%|████████  | 4/5 [00:38<00:09,  9.54s/it]"
     ]
    },
    {
     "name": "stdout",
     "output_type": "stream",
     "text": [
      "[3.       0.017771 0.017582 0.142784]\n",
      "loss: 0.019477576190744535\n"
     ]
    },
    {
     "name": "stderr",
     "output_type": "stream",
     "text": [
      "Epoch: 100%|██████████| 5/5 [00:47<00:00,  9.52s/it]"
     ]
    },
    {
     "name": "stdout",
     "output_type": "stream",
     "text": [
      "[4.       0.019478 0.020409 0.142678]\n"
     ]
    },
    {
     "name": "stderr",
     "output_type": "stream",
     "text": [
      "\n"
     ]
    }
   ],
   "source": [
    "m.fit(lr, 5)"
   ]
  },
  {
   "cell_type": "code",
   "execution_count": 75,
   "metadata": {
    "executionInfo": {
     "elapsed": 2344,
     "status": "ok",
     "timestamp": 1612158797045,
     "user": {
      "displayName": "Olek Fialko",
      "photoUrl": "",
      "userId": "14285406496126226900"
     },
     "user_tz": -780
    },
    "id": "i609Shq-Jl1e"
   },
   "outputs": [],
   "source": [
    "y_pred,y_targ = m.predict()"
   ]
  },
  {
   "cell_type": "code",
   "execution_count": 76,
   "metadata": {
    "colab": {
     "base_uri": "https://localhost:8080/"
    },
    "executionInfo": {
     "elapsed": 1227,
     "status": "ok",
     "timestamp": 1612158820703,
     "user": {
      "displayName": "Olek Fialko",
      "photoUrl": "",
      "userId": "14285406496126226900"
     },
     "user_tz": -780
    },
    "id": "liXrol9zCELn",
    "outputId": "74f020de-e561-40d6-ce5a-0c4f6545b20b"
   },
   "outputs": [
    {
     "data": {
      "text/plain": [
       "0.14711055"
      ]
     },
     "execution_count": 76,
     "metadata": {
      "tags": []
     },
     "output_type": "execute_result"
    }
   ],
   "source": [
    "exp_rmspe(y_pred,y_targ)"
   ]
  },
  {
   "cell_type": "markdown",
   "metadata": {
    "id": "FKYgpktiAqSv"
   },
   "source": [
    "# Light GBM"
   ]
  },
  {
   "cell_type": "code",
   "execution_count": null,
   "metadata": {
    "id": "7T-u52DsDH3g"
   },
   "outputs": [],
   "source": [
    "import lightgbm as lgb"
   ]
  },
  {
   "cell_type": "code",
   "execution_count": null,
   "metadata": {
    "id": "LKGoXNNdD7wC"
   },
   "outputs": [],
   "source": [
    "!pip install bayesian-optimization"
   ]
  },
  {
   "cell_type": "code",
   "execution_count": null,
   "metadata": {
    "id": "2W12av4JEAGD"
   },
   "outputs": [],
   "source": [
    "from bayes_opt import BayesianOptimization"
   ]
  },
  {
   "cell_type": "code",
   "execution_count": null,
   "metadata": {
    "id": "AHbJNgRPAuhU"
   },
   "outputs": [],
   "source": [
    "from src_Rossman.datasets import split_by_idx"
   ]
  },
  {
   "cell_type": "code",
   "execution_count": null,
   "metadata": {
    "id": "uCBQRXShBzs6"
   },
   "outputs": [],
   "source": [
    "((val_df, trn_df), (val_y, trn_y)) = split_by_idx(val_idx, df, yl)"
   ]
  },
  {
   "cell_type": "code",
   "execution_count": null,
   "metadata": {
    "id": "cN-GmGLfDYp8"
   },
   "outputs": [],
   "source": [
    "train_data = lgb.Dataset(data=trn_df, label=trn_y)\n",
    "eval_data = lgb.Dataset(data=val_df, label=val_y)"
   ]
  },
  {
   "cell_type": "code",
   "execution_count": null,
   "metadata": {
    "id": "ugjMjiviGBy4"
   },
   "outputs": [],
   "source": [
    "def lgb_exp_rms(pred, train_data):\n",
    "    label = train_data.get_label()\n",
    "    val_ = exp_rmspe(pred,label)\n",
    "    return \"exp_rmspe\", val_, False"
   ]
  },
  {
   "cell_type": "code",
   "execution_count": null,
   "metadata": {
    "id": "qlprGAS1Cvg7"
   },
   "outputs": [],
   "source": [
    "def lgbm_evaluate(**params):\n",
    "    params_lgbm = {\n",
    "        #\"device_type\":\"gpu\",\n",
    "        \"objective\": \"mse\",\n",
    "        \"num_iterations\": 250,\n",
    "        \"learning_rate\": params[\"learning_rate\"],\n",
    "        \"max_depth\": int(params[\"max_depth\"]),\n",
    "        \"min_data_in_leaf\": int(params[\"min_data_in_leaf\"]),\n",
    "        \"num_leaves\": int(params[\"num_leaves\"]),\n",
    "        \"reg_lambda\": params[\"reg_lambda\"],\n",
    "        \"reg_alpha\": params[\"reg_alpha\"],\n",
    "        \"feature_fraction\": params[\"feature_fraction\"],\n",
    "        \"bagging_fraction\": params[\"bagging_fraction\"],\n",
    "        \"min_gain_to_split\": params[\"min_gain_to_split\"],\n",
    "        \"verbose\": -1,\n",
    "        # \"num_threads\": 1,\n",
    "        \"seed\": 42,\n",
    "    }\n",
    "    model = lgb.train(\n",
    "        params_lgbm,\n",
    "        train_data,\n",
    "        num_boost_round = 200,\n",
    "        early_stopping_rounds = 5,\n",
    "        categorical_feature=cat_vars,\n",
    "        verbose_eval=0,\n",
    "        valid_sets=[train_data, eval_data],\n",
    "        feval=lgb_exp_rms\n",
    "    )\n",
    "    \n",
    "    return -model.best_score[\"valid_1\"][\"exp_rmspe\"]"
   ]
  },
  {
   "cell_type": "code",
   "execution_count": null,
   "metadata": {
    "id": "DG0t3bmnDMoB"
   },
   "outputs": [],
   "source": [
    "params = {\n",
    "    \"num_leaves\": (20, 100),\n",
    "    \"min_data_in_leaf\": (50, 150),\n",
    "    \"max_depth\": (1, 50),\n",
    "    \"learning_rate\": (0.01, 0.4),\n",
    "    \"feature_fraction\": (0.2, 1),\n",
    "    \"bagging_fraction\": (0.5, 1),\n",
    "    \"reg_lambda\": (0, 20),\n",
    "    \"reg_alpha\": (0, 20),\n",
    "    \"min_gain_to_split\": (0, 1),\n",
    "}\n",
    "bo = BayesianOptimization(lgbm_evaluate, params,verbose=1)\n"
   ]
  },
  {
   "cell_type": "code",
   "execution_count": null,
   "metadata": {
    "id": "j1b9P-GvFieT"
   },
   "outputs": [],
   "source": []
  },
  {
   "cell_type": "code",
   "execution_count": null,
   "metadata": {
    "colab": {
     "base_uri": "https://localhost:8080/"
    },
    "id": "alI-gJKwEwEK",
    "outputId": "578137b1-2fd1-4b58-8a9d-404fcb0a321a"
   },
   "outputs": [
    {
     "name": "stdout",
     "output_type": "stream",
     "text": [
      "|   iter    |  target   | baggin... | featur... | learni... | max_depth | min_da... | min_ga... | num_le... | reg_alpha | reg_la... |\n",
      "-------------------------------------------------------------------------------------------------------------------------------------\n"
     ]
    },
    {
     "name": "stderr",
     "output_type": "stream",
     "text": [
      "/usr/local/lib/python3.6/dist-packages/lightgbm/engine.py:118: UserWarning:\n",
      "\n",
      "Found `num_iterations` in params. Will use it instead of argument\n",
      "\n"
     ]
    }
   ],
   "source": [
    "bo.maximize(init_points=100,n_iter=50)"
   ]
  },
  {
   "cell_type": "code",
   "execution_count": null,
   "metadata": {
    "colab": {
     "base_uri": "https://localhost:8080/"
    },
    "executionInfo": {
     "elapsed": 1037,
     "status": "ok",
     "timestamp": 1611906680521,
     "user": {
      "displayName": "Olek Fialko",
      "photoUrl": "",
      "userId": "14285406496126226900"
     },
     "user_tz": -780
    },
    "id": "hSDZv55EHfUL",
    "outputId": "191f1248-286e-4605-d353-c6dab9c668e7"
   },
   "outputs": [
    {
     "name": "stdout",
     "output_type": "stream",
     "text": [
      "{'target': -7726224.502622837, 'params': {'bagging_fraction': 1.0, 'feature_fraction': 0.2, 'learning_rate': 0.2, 'max_depth': 10.0, 'min_data_in_leaf': 138.29384659085886, 'min_gain_to_split': 0.6709405675640878, 'num_leaves': 86.40759153780651, 'reg_alpha': 7.50327124771608, 'reg_lambda': 6.80854198081176}}\n"
     ]
    }
   ],
   "source": [
    "print(bo.max)"
   ]
  }
 ],
 "metadata": {
  "accelerator": "GPU",
  "colab": {
   "collapsed_sections": [
    "b_p0vn4JKOxj",
    "FKYgpktiAqSv"
   ],
   "name": "Rossman_collab.ipynb",
   "provenance": [],
   "toc_visible": true
  },
  "kernelspec": {
   "display_name": "Python 3",
   "language": "python",
   "name": "python3"
  },
  "language_info": {
   "codemirror_mode": {
    "name": "ipython",
    "version": 3
   },
   "file_extension": ".py",
   "mimetype": "text/x-python",
   "name": "python",
   "nbconvert_exporter": "python",
   "pygments_lexer": "ipython3",
   "version": "3.8.9"
  }
 },
 "nbformat": 4,
 "nbformat_minor": 4
}
