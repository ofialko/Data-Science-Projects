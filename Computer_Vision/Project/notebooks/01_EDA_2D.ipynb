{
 "cells": [
  {
   "cell_type": "code",
   "execution_count": 1,
   "id": "33b9806e-9c3a-4bd1-9ade-02707c32091b",
   "metadata": {},
   "outputs": [],
   "source": [
    "%load_ext autoreload\n",
    "%autoreload 2"
   ]
  },
  {
   "cell_type": "code",
   "execution_count": 22,
   "id": "de4a24d1-ef43-43fc-9c2c-4b552ac16c3a",
   "metadata": {},
   "outputs": [],
   "source": [
    "import sys\n",
    "sys.path.append('/tmp/myapp/src/')"
   ]
  },
  {
   "cell_type": "code",
   "execution_count": 46,
   "id": "b86e9030-f585-42d7-8a65-2ce6e8b6be2a",
   "metadata": {},
   "outputs": [],
   "source": [
    "from src.model2D import NetResDeep\n",
    "from src.dsets2D import CifarDataset"
   ]
  },
  {
   "cell_type": "code",
   "execution_count": 108,
   "id": "c2ac6563-2dc7-4185-8de4-127692f84da7",
   "metadata": {},
   "outputs": [
    {
     "name": "stderr",
     "output_type": "stream",
     "text": [
      "2021-05-19 07:38:26,893 INFO     pid:69 src.dsets2D:045:__init__ 10000 training samples\n"
     ]
    }
   ],
   "source": [
    "data_trn = CifarDataset(data_path, isTrainSet_bool=True)"
   ]
  },
  {
   "cell_type": "code",
   "execution_count": 109,
   "id": "a46f498e-87a2-44e8-bffc-daa91a8c7e3e",
   "metadata": {},
   "outputs": [
    {
     "name": "stderr",
     "output_type": "stream",
     "text": [
      "2021-05-19 07:38:27,926 INFO     pid:69 src.dsets2D:045:__init__ 2000 validation samples\n"
     ]
    }
   ],
   "source": [
    "val_trn = CifarDataset(data_path, isTrainSet_bool=False)"
   ]
  },
  {
   "cell_type": "code",
   "execution_count": 57,
   "id": "5d34f2f4-af98-4a26-83a3-ba0cfeb07103",
   "metadata": {},
   "outputs": [
    {
     "data": {
      "text/plain": [
       "torch.Size([1, 3, 32, 32])"
      ]
     },
     "execution_count": 57,
     "metadata": {},
     "output_type": "execute_result"
    }
   ],
   "source": [
    "data_trn[0][0].unsqueeze(0).shape"
   ]
  },
  {
   "cell_type": "code",
   "execution_count": 99,
   "id": "19e9c314-db87-4acb-a3c3-3bf7b3bb6d52",
   "metadata": {},
   "outputs": [
    {
     "data": {
      "text/plain": [
       "tensor([[-0.1117, -0.0432]], grad_fn=<AddmmBackward>)"
      ]
     },
     "execution_count": 99,
     "metadata": {},
     "output_type": "execute_result"
    }
   ],
   "source": [
    "model = NetResDeep()\n",
    "model(data_trn[0][0].unsqueeze(0))"
   ]
  },
  {
   "cell_type": "code",
   "execution_count": null,
   "id": "cbe7cde9-bd8c-4574-b69d-507cca51b591",
   "metadata": {},
   "outputs": [],
   "source": []
  }
 ],
 "metadata": {
  "kernelspec": {
   "display_name": "Python 3",
   "language": "python",
   "name": "python3"
  },
  "language_info": {
   "codemirror_mode": {
    "name": "ipython",
    "version": 3
   },
   "file_extension": ".py",
   "mimetype": "text/x-python",
   "name": "python",
   "nbconvert_exporter": "python",
   "pygments_lexer": "ipython3",
   "version": "3.8.10"
  }
 },
 "nbformat": 4,
 "nbformat_minor": 5
}
