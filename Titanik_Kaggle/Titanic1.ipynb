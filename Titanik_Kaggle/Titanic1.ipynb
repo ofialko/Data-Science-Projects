{
 "cells": [
  {
   "cell_type": "markdown",
   "metadata": {},
   "source": [
    "# Titanic: Machine Learning from Disaster"
   ]
  },
  {
   "cell_type": "code",
   "execution_count": 83,
   "metadata": {
    "collapsed": false
   },
   "outputs": [],
   "source": [
    "import pandas as pd\n",
    "import numpy as np\n",
    "import matplotlib.pyplot as plt\n",
    "import re\n",
    "from functools import partial\n",
    "%matplotlib inline\n",
    "plt.style.use('ggplot')"
   ]
  },
  {
   "cell_type": "markdown",
   "metadata": {},
   "source": [
    "## 1 Loading data"
   ]
  },
  {
   "cell_type": "code",
   "execution_count": 84,
   "metadata": {
    "collapsed": true
   },
   "outputs": [],
   "source": [
    "data_train = pd.read_csv('train.csv')\n",
    "data_test  = pd.read_csv('test.csv')"
   ]
  },
  {
   "cell_type": "code",
   "execution_count": 85,
   "metadata": {
    "collapsed": false
   },
   "outputs": [
    {
     "data": {
      "text/plain": [
       "0    549\n",
       "1    342\n",
       "Name: Survived, dtype: int64"
      ]
     },
     "execution_count": 85,
     "metadata": {},
     "output_type": "execute_result"
    }
   ],
   "source": [
    "# Take a look at survival rates: more perish than survived\n",
    "data_train.Survived.value_counts()"
   ]
  },
  {
   "cell_type": "markdown",
   "metadata": {},
   "source": [
    "## 2 Features engineering"
   ]
  },
  {
   "cell_type": "markdown",
   "metadata": {},
   "source": [
    "### \"Pclass\" "
   ]
  },
  {
   "cell_type": "code",
   "execution_count": 86,
   "metadata": {
    "collapsed": false
   },
   "outputs": [
    {
     "data": {
      "text/html": [
       "<div>\n",
       "<table border=\"1\" class=\"dataframe\">\n",
       "  <thead>\n",
       "    <tr style=\"text-align: right;\">\n",
       "      <th>Survived</th>\n",
       "      <th>0</th>\n",
       "      <th>1</th>\n",
       "    </tr>\n",
       "    <tr>\n",
       "      <th>Pclass</th>\n",
       "      <th></th>\n",
       "      <th></th>\n",
       "    </tr>\n",
       "  </thead>\n",
       "  <tbody>\n",
       "    <tr>\n",
       "      <th>1</th>\n",
       "      <td>80</td>\n",
       "      <td>136</td>\n",
       "    </tr>\n",
       "    <tr>\n",
       "      <th>2</th>\n",
       "      <td>97</td>\n",
       "      <td>87</td>\n",
       "    </tr>\n",
       "    <tr>\n",
       "      <th>3</th>\n",
       "      <td>372</td>\n",
       "      <td>119</td>\n",
       "    </tr>\n",
       "  </tbody>\n",
       "</table>\n",
       "</div>"
      ],
      "text/plain": [
       "Survived    0    1\n",
       "Pclass            \n",
       "1          80  136\n",
       "2          97   87\n",
       "3         372  119"
      ]
     },
     "execution_count": 86,
     "metadata": {},
     "output_type": "execute_result"
    }
   ],
   "source": [
    "df = data_train.groupby('Pclass')['Survived'].value_counts()\n",
    "df = df.unstack()\n",
    "df"
   ]
  },
  {
   "cell_type": "code",
   "execution_count": 87,
   "metadata": {
    "collapsed": false
   },
   "outputs": [
    {
     "data": {
      "image/png": "[encoded data removed]",
      "text/plain": [
       "<matplotlib.figure.Figure at 0x7febd8cc40b8>"
      ]
     },
     "metadata": {},
     "output_type": "display_data"
    }
   ],
   "source": [
    "# Pandas plotting\n",
    "\n",
    "df.plot.bar(stacked=True,figsize = (8,6),cmap = plt.cm.RdYlGn)\n",
    "plt.ylabel('Total count')\n",
    "plt.xticks(rotation = 'horizontal');"
   ]
  },
  {
   "cell_type": "code",
   "execution_count": 88,
   "metadata": {
    "collapsed": false
   },
   "outputs": [
    {
     "data": {
      "image/png": "[encoded data removed]",
      "text/plain": [
       "<matplotlib.figure.Figure at 0x7febd8cf76d8>"
      ]
     },
     "metadata": {},
     "output_type": "display_data"
    }
   ],
   "source": [
    "# Seaborn plotting\n",
    "\n",
    "import seaborn as sns\n",
    "df = data_train.groupby('Pclass')['Survived'].value_counts().unstack()\n",
    "\n",
    "sns.barplot(x=df.index,y=df[1]+df[0],color='green')\n",
    "sns.barplot(x=df.index,y=df[0],color='red')\n",
    "plt.ylabel('Total Count')\n",
    "\n",
    "topbar = plt.Rectangle((0,0),1,1,fc=\"red\", edgecolor = 'none')\n",
    "bottombar = plt.Rectangle((0,0),1,1,fc='green',  edgecolor = 'none')\n",
    "\n",
    "plt.legend([topbar,bottombar],['0', '1'], loc=2, ncol = 1, prop={'size':16});"
   ]
  },
  {
   "cell_type": "code",
   "execution_count": 89,
   "metadata": {
    "collapsed": false,
    "scrolled": false
   },
   "outputs": [
    {
     "data": {
      "text/html": [
       "\n",
       "    <div class=\"bk-banner\">\n",
       "        <a href=\"http://bokeh.pydata.org\" target=\"_blank\" class=\"bk-logo bk-logo-small bk-logo-notebook\"></a>\n",
       "        <span id=\"912197c8-bf3c-49bc-b355-bac373df3819\">Loading BokehJS ...</span>\n",
       "    </div>"
      ]
     },
     "metadata": {},
     "output_type": "display_data"
    },
    {
     "data": {
      "application/javascript": [
       "\n",
       "(function(global) {\n",
       "  function now() {\n",
       "    return new Date();\n",
       "  }\n",
       "\n",
       "  if (typeof (window._bokeh_onload_callbacks) === \"undefined\") {\n",
       "    window._bokeh_onload_callbacks = [];\n",
       "  }\n",
       "\n",
       "  function run_callbacks() {\n",
       "    window._bokeh_onload_callbacks.forEach(function(callback) { callback() });\n",
       "    delete window._bokeh_onload_callbacks\n",
       "    console.info(\"Bokeh: all callbacks have finished\");\n",
       "  }\n",
       "\n",
       "  function load_libs(js_urls, callback) {\n",
       "    window._bokeh_onload_callbacks.push(callback);\n",
       "    if (window._bokeh_is_loading > 0) {\n",
       "      console.log(\"Bokeh: BokehJS is being loaded, scheduling callback at\", now());\n",
       "      return null;\n",
       "    }\n",
       "    if (js_urls == null || js_urls.length === 0) {\n",
       "      run_callbacks();\n",
       "      return null;\n",
       "    }\n",
       "    console.log(\"Bokeh: BokehJS not loaded, scheduling load and callback at\", now());\n",
       "    window._bokeh_is_loading = js_urls.length;\n",
       "    for (var i = 0; i < js_urls.length; i++) {\n",
       "      var url = js_urls[i];\n",
       "      var s = document.createElement('script');\n",
       "      s.src = url;\n",
       "      s.async = false;\n",
       "      s.onreadystatechange = s.onload = function() {\n",
       "        window._bokeh_is_loading--;\n",
       "        if (window._bokeh_is_loading === 0) {\n",
       "          console.log(\"Bokeh: all BokehJS libraries loaded\");\n",
       "          run_callbacks()\n",
       "        }\n",
       "      };\n",
       "      s.onerror = function() {\n",
       "        console.warn(\"failed to load library \" + url);\n",
       "      };\n",
       "      console.log(\"Bokeh: injecting script tag for BokehJS library: \", url);\n",
       "      document.getElementsByTagName(\"head\")[0].appendChild(s);\n",
       "    }\n",
       "  };\n",
       "\n",
       "  var js_urls = ['https://cdn.pydata.org/bokeh/release/bokeh-0.11.1.min.js', 'https://cdn.pydata.org/bokeh/release/bokeh-widgets-0.11.1.min.js', 'https://cdn.pydata.org/bokeh/release/bokeh-compiler-0.11.1.min.js'];\n",
       "\n",
       "  var inline_js = [\n",
       "    function(Bokeh) {\n",
       "      Bokeh.set_log_level(\"info\");\n",
       "    },\n",
       "    \n",
       "    function(Bokeh) {\n",
       "      Bokeh.$(\"#912197c8-bf3c-49bc-b355-bac373df3819\").text(\"BokehJS successfully loaded\");\n",
       "    },\n",
       "    function(Bokeh) {\n",
       "      console.log(\"Bokeh: injecting CSS: https://cdn.pydata.org/bokeh/release/bokeh-0.11.1.min.css\");\n",
       "      Bokeh.embed.inject_css(\"https://cdn.pydata.org/bokeh/release/bokeh-0.11.1.min.css\");\n",
       "      console.log(\"Bokeh: injecting CSS: https://cdn.pydata.org/bokeh/release/bokeh-widgets-0.11.1.min.css\");\n",
       "      Bokeh.embed.inject_css(\"https://cdn.pydata.org/bokeh/release/bokeh-widgets-0.11.1.min.css\");\n",
       "    }\n",
       "  ];\n",
       "\n",
       "  function run_inline_js() {\n",
       "    for (var i = 0; i < inline_js.length; i++) {\n",
       "      inline_js[i](window.Bokeh);\n",
       "    }\n",
       "  }\n",
       "\n",
       "  if (window._bokeh_is_loading === 0) {\n",
       "    console.log(\"Bokeh: BokehJS loaded, going straight to plotting\");\n",
       "    run_inline_js();\n",
       "  } else {\n",
       "    load_libs(js_urls, function() {\n",
       "      console.log(\"Bokeh: BokehJS plotting callback run at\", now());\n",
       "      run_inline_js();\n",
       "    });\n",
       "  }\n",
       "}(this));"
      ]
     },
     "metadata": {},
     "output_type": "display_data"
    },
    {
     "data": {
      "text/html": [
       "\n",
       "\n",
       "    <div class=\"plotdiv\" id=\"dd05be53-eea9-4a07-899d-c3dbd4e03b84\"></div>\n",
       "<script type=\"text/javascript\">\n",
       "  \n",
       "  (function(global) {\n",
       "    function now() {\n",
       "      return new Date();\n",
       "    }\n",
       "  \n",
       "    if (typeof (window._bokeh_onload_callbacks) === \"undefined\") {\n",
       "      window._bokeh_onload_callbacks = [];\n",
       "    }\n",
       "  \n",
       "    function run_callbacks() {\n",
       "      window._bokeh_onload_callbacks.forEach(function(callback) { callback() });\n",
       "      delete window._bokeh_onload_callbacks\n",
       "      console.info(\"Bokeh: all callbacks have finished\");\n",
       "    }\n",
       "  \n",
       "    function load_libs(js_urls, callback) {\n",
       "      window._bokeh_onload_callbacks.push(callback);\n",
       "      if (window._bokeh_is_loading > 0) {\n",
       "        console.log(\"Bokeh: BokehJS is being loaded, scheduling callback at\", now());\n",
       "        return null;\n",
       "      }\n",
       "      if (js_urls == null || js_urls.length === 0) {\n",
       "        run_callbacks();\n",
       "        return null;\n",
       "      }\n",
       "      console.log(\"Bokeh: BokehJS not loaded, scheduling load and callback at\", now());\n",
       "      window._bokeh_is_loading = js_urls.length;\n",
       "      for (var i = 0; i < js_urls.length; i++) {\n",
       "        var url = js_urls[i];\n",
       "        var s = document.createElement('script');\n",
       "        s.src = url;\n",
       "        s.async = false;\n",
       "        s.onreadystatechange = s.onload = function() {\n",
       "          window._bokeh_is_loading--;\n",
       "          if (window._bokeh_is_loading === 0) {\n",
       "            console.log(\"Bokeh: all BokehJS libraries loaded\");\n",
       "            run_callbacks()\n",
       "          }\n",
       "        };\n",
       "        s.onerror = function() {\n",
       "          console.warn(\"failed to load library \" + url);\n",
       "        };\n",
       "        console.log(\"Bokeh: injecting script tag for BokehJS library: \", url);\n",
       "        document.getElementsByTagName(\"head\")[0].appendChild(s);\n",
       "      }\n",
       "    };var element = document.getElementById(\"dd05be53-eea9-4a07-899d-c3dbd4e03b84\");\n",
       "    if (element == null) {\n",
       "      console.log(\"Bokeh: ERROR: autoload.js configured with elementid 'dd05be53-eea9-4a07-899d-c3dbd4e03b84' but no matching script tag was found. \")\n",
       "      return false;\n",
       "    }\n",
       "  \n",
       "    var js_urls = [];\n",
       "  \n",
       "    var inline_js = [\n",
       "      function(Bokeh) {\n",
       "        Bokeh.$(function() {\n",
       "            var docs_json = {\"615210f7-e4b0-4886-a674-d8bdbd6bc7de\":{\"roots\":{\"references\":[{\"attributes\":{},\"id\":\"c63e17dc-8c21-4e86-96cc-ac3a878c81c2\",\"type\":\"BasicTickFormatter\"},{\"attributes\":{\"data_source\":{\"id\":\"4303264d-d1bc-49d2-94ff-070e9384ece8\",\"type\":\"ColumnDataSource\"},\"glyph\":{\"id\":\"05f6c6c8-0b3c-45bd-86c8-51ae5b825e40\",\"type\":\"Rect\"},\"hover_glyph\":null,\"nonselection_glyph\":null,\"selection_glyph\":null},\"id\":\"0a1be355-3212-4416-b3a1-24c41e6368a9\",\"type\":\"GlyphRenderer\"},{\"attributes\":{\"plot\":{\"id\":\"264e1866-0558-41c3-82f7-3e1b16c19e07\",\"subtype\":\"Chart\",\"type\":\"Plot\"}},\"id\":\"9648afb4-7a2f-43d8-8dc0-f48eaef9770f\",\"type\":\"PreviewSaveTool\"},{\"attributes\":{},\"id\":\"7a70e587-b2b7-4b1b-a75f-3482cd53dc28\",\"type\":\"ToolEvents\"},{\"attributes\":{\"plot\":{\"id\":\"d22a540d-7931-4f33-b102-bb982de6f270\",\"subtype\":\"Chart\",\"type\":\"Plot\"}},\"id\":\"7e2fe22b-dd8d-404b-8349-f7576d9a7229\",\"type\":\"HelpTool\"},{\"attributes\":{},\"id\":\"235d3199-50d4-4f99-b122-a72148b69412\",\"type\":\"CategoricalTicker\"},{\"attributes\":{\"callback\":null,\"column_names\":[\"width\",\"y\",\"height\",\"fill_alpha\",\"line_color\",\"x\",\"color\",\"line_alpha\"],\"data\":{\"Pclass\":[3],\"Survived\":[1],\"chart_index\":[{\"Pclass\":3,\"Survived\":1}],\"color\":[\"#5ab738\"],\"fill_alpha\":[0.8],\"height\":[119.0],\"line_alpha\":[1.0],\"line_color\":[\"white\"],\"width\":[0.8],\"x\":[\"3\"],\"y\":[431.5]}},\"id\":\"5852ebb8-bb4d-4e88-8b95-7b39c8c7b797\",\"type\":\"ColumnDataSource\"},{\"attributes\":{\"callback\":null,\"column_names\":[\"width\",\"y\",\"height\",\"fill_alpha\",\"line_color\",\"x\",\"color\",\"line_alpha\"],\"data\":{\"Pclass\":[1],\"Survived\":[0],\"chart_index\":[{\"Pclass\":1,\"Survived\":0}],\"color\":[\"#f22c40\"],\"fill_alpha\":[0.8],\"height\":[80.0],\"line_alpha\":[1.0],\"line_color\":[\"white\"],\"width\":[0.8],\"x\":[\"1\"],\"y\":[176.0]}},\"id\":\"672f1ec6-554f-415b-af63-3d70eea15341\",\"type\":\"ColumnDataSource\"},{\"attributes\":{\"plot\":{\"id\":\"d22a540d-7931-4f33-b102-bb982de6f270\",\"subtype\":\"Chart\",\"type\":\"Plot\"}},\"id\":\"63a4c1ac-bd79-404b-9ace-f48b0d5af545\",\"type\":\"ResetTool\"},{\"attributes\":{\"callback\":null,\"column_names\":[\"width\",\"y\",\"height\",\"fill_alpha\",\"line_color\",\"x\",\"color\",\"line_alpha\"],\"data\":{\"Pclass\":[2],\"Survived\":[0],\"chart_index\":[{\"Pclass\":2,\"Survived\":0}],\"color\":[\"#f22c40\"],\"fill_alpha\":[0.8],\"height\":[97.0],\"line_alpha\":[1.0],\"line_color\":[\"white\"],\"width\":[0.8],\"x\":[\"2\"],\"y\":[135.5]}},\"id\":\"4303264d-d1bc-49d2-94ff-070e9384ece8\",\"type\":\"ColumnDataSource\"},{\"attributes\":{\"fill_alpha\":{\"field\":\"fill_alpha\"},\"fill_color\":{\"field\":\"color\"},\"height\":{\"field\":\"height\",\"units\":\"data\"},\"line_color\":{\"field\":\"line_color\"},\"width\":{\"field\":\"width\",\"units\":\"data\"},\"x\":{\"field\":\"x\"},\"y\":{\"field\":\"y\"}},\"id\":\"ff4d7de4-f386-458a-87a9-0d139d99ab4a\",\"type\":\"Rect\"},{\"attributes\":{\"plot\":{\"id\":\"d22a540d-7931-4f33-b102-bb982de6f270\",\"subtype\":\"Chart\",\"type\":\"Plot\"}},\"id\":\"a0c928a8-cafa-48f0-bab7-dd71e88afe84\",\"type\":\"PanTool\"},{\"attributes\":{\"callback\":null,\"column_names\":[\"width\",\"y\",\"height\",\"fill_alpha\",\"line_color\",\"x\",\"color\",\"line_alpha\"],\"data\":{\"Pclass\":[3],\"Survived\":[1],\"chart_index\":[{\"Pclass\":3,\"Survived\":1}],\"color\":[\"#5ab738\"],\"fill_alpha\":[0.8],\"height\":[119.0],\"line_alpha\":[1.0],\"line_color\":[\"white\"],\"width\":[0.8],\"x\":[\"3\"],\"y\":[431.5]}},\"id\":\"3497797d-f8b6-4ed7-9304-6b195c083df6\",\"type\":\"ColumnDataSource\"},{\"attributes\":{\"data_source\":{\"id\":\"35321796-45f5-4797-a8d6-9d698f7718d7\",\"type\":\"ColumnDataSource\"},\"glyph\":{\"id\":\"6d0c6abe-61ca-44bc-ad9c-00c5ea3d6619\",\"type\":\"Rect\"},\"hover_glyph\":null,\"nonselection_glyph\":null,\"selection_glyph\":null},\"id\":\"2ca58d76-a18b-4c0d-a582-267682d9ee2a\",\"type\":\"GlyphRenderer\"},{\"attributes\":{\"axis_label\":\"Total Count\",\"formatter\":{\"id\":\"484e5698-1434-4d53-9c53-eb7f4c7dc9e5\",\"type\":\"BasicTickFormatter\"},\"plot\":{\"id\":\"264e1866-0558-41c3-82f7-3e1b16c19e07\",\"subtype\":\"Chart\",\"type\":\"Plot\"},\"ticker\":{\"id\":\"79f186b2-a27b-416d-ad56-9a0c36d6afdb\",\"type\":\"BasicTicker\"}},\"id\":\"3607d65a-fd4a-406d-8388-81ae1d6cee8a\",\"type\":\"LinearAxis\"},{\"attributes\":{},\"id\":\"484e5698-1434-4d53-9c53-eb7f4c7dc9e5\",\"type\":\"BasicTickFormatter\"},{\"attributes\":{\"plot\":{\"id\":\"d22a540d-7931-4f33-b102-bb982de6f270\",\"subtype\":\"Chart\",\"type\":\"Plot\"}},\"id\":\"31418c84-2461-4e36-89a7-1966a7550ff8\",\"type\":\"PreviewSaveTool\"},{\"attributes\":{\"fill_alpha\":{\"field\":\"fill_alpha\"},\"fill_color\":{\"field\":\"color\"},\"height\":{\"field\":\"height\",\"units\":\"data\"},\"line_color\":{\"field\":\"line_color\"},\"width\":{\"field\":\"width\",\"units\":\"data\"},\"x\":{\"field\":\"x\"},\"y\":{\"field\":\"y\"}},\"id\":\"24a6b8e3-409d-455f-a3fc-86435f5523c7\",\"type\":\"Rect\"},{\"attributes\":{\"callback\":null,\"column_names\":[\"width\",\"y\",\"height\",\"fill_alpha\",\"line_color\",\"x\",\"color\",\"line_alpha\"],\"data\":{\"Pclass\":[2],\"Survived\":[0],\"chart_index\":[{\"Pclass\":2,\"Survived\":0}],\"color\":[\"#f22c40\"],\"fill_alpha\":[0.8],\"height\":[97.0],\"line_alpha\":[1.0],\"line_color\":[\"white\"],\"width\":[0.8],\"x\":[\"2\"],\"y\":[135.5]}},\"id\":\"4d59540a-3024-4029-9788-26b4f05a72f5\",\"type\":\"ColumnDataSource\"},{\"attributes\":{\"fill_alpha\":{\"field\":\"fill_alpha\"},\"fill_color\":{\"field\":\"color\"},\"height\":{\"field\":\"height\",\"units\":\"data\"},\"line_color\":{\"field\":\"line_color\"},\"width\":{\"field\":\"width\",\"units\":\"data\"},\"x\":{\"field\":\"x\"},\"y\":{\"field\":\"y\"}},\"id\":\"46106b83-99fb-4da3-9d6d-c2740deb645a\",\"type\":\"Rect\"},{\"attributes\":{\"callback\":null,\"column_names\":[\"width\",\"y\",\"height\",\"fill_alpha\",\"line_color\",\"x\",\"color\",\"line_alpha\"],\"data\":{\"Pclass\":[1],\"Survived\":[0],\"chart_index\":[{\"Pclass\":1,\"Survived\":0}],\"color\":[\"#f22c40\"],\"fill_alpha\":[0.8],\"height\":[80.0],\"line_alpha\":[1.0],\"line_color\":[\"white\"],\"width\":[0.8],\"x\":[\"1\"],\"y\":[176.0]}},\"id\":\"913f957b-8f1b-45bd-811b-9e02ea5484ea\",\"type\":\"ColumnDataSource\"},{\"attributes\":{\"bottom_units\":\"screen\",\"fill_alpha\":{\"value\":0.5},\"fill_color\":{\"value\":\"lightgrey\"},\"left_units\":\"screen\",\"level\":\"overlay\",\"line_alpha\":{\"value\":1.0},\"line_color\":{\"value\":\"black\"},\"line_dash\":[4,4],\"line_width\":{\"value\":2},\"plot\":null,\"render_mode\":\"css\",\"right_units\":\"screen\",\"top_units\":\"screen\"},\"id\":\"ffbed8ce-e1a4-4447-bb1a-44d2391187d5\",\"type\":\"BoxAnnotation\"},{\"attributes\":{\"callback\":null,\"column_names\":[\"width\",\"y\",\"height\",\"fill_alpha\",\"line_color\",\"x\",\"color\",\"line_alpha\"],\"data\":{\"Pclass\":[1],\"Survived\":[1],\"chart_index\":[{\"Pclass\":1,\"Survived\":1}],\"color\":[\"#5ab738\"],\"fill_alpha\":[0.8],\"height\":[136.0],\"line_alpha\":[1.0],\"line_color\":[\"white\"],\"width\":[0.8],\"x\":[\"1\"],\"y\":[68.0]}},\"id\":\"7c4efbbf-83e3-415f-b2f5-3bd9babf7639\",\"type\":\"ColumnDataSource\"},{\"attributes\":{\"data_source\":{\"id\":\"3497797d-f8b6-4ed7-9304-6b195c083df6\",\"type\":\"ColumnDataSource\"},\"glyph\":{\"id\":\"4ac8355d-f327-4fe9-aa69-cecbdd8d1531\",\"type\":\"Rect\"},\"hover_glyph\":null,\"nonselection_glyph\":null,\"selection_glyph\":null},\"id\":\"599d2cae-32dc-4077-9b3f-b88d223a875a\",\"type\":\"GlyphRenderer\"},{\"attributes\":{\"plot\":{\"id\":\"264e1866-0558-41c3-82f7-3e1b16c19e07\",\"subtype\":\"Chart\",\"type\":\"Plot\"}},\"id\":\"e25550f9-5a5c-42b3-9d7c-5633631bcb59\",\"type\":\"WheelZoomTool\"},{\"attributes\":{\"callback\":null,\"column_names\":[\"width\",\"y\",\"height\",\"fill_alpha\",\"line_color\",\"x\",\"color\",\"line_alpha\"],\"data\":{\"Pclass\":[3],\"Survived\":[0],\"chart_index\":[{\"Pclass\":3,\"Survived\":0}],\"color\":[\"#f22c40\"],\"fill_alpha\":[0.8],\"height\":[372.0],\"line_alpha\":[1.0],\"line_color\":[\"white\"],\"width\":[0.8],\"x\":[\"3\"],\"y\":[186.0]}},\"id\":\"5f46b970-dcbb-4331-81c9-c668d8329b3f\",\"type\":\"ColumnDataSource\"},{\"attributes\":{\"plot\":{\"id\":\"264e1866-0558-41c3-82f7-3e1b16c19e07\",\"subtype\":\"Chart\",\"type\":\"Plot\"}},\"id\":\"88f49952-8b96-4272-9406-efcf0c5397f7\",\"type\":\"PanTool\"},{\"attributes\":{},\"id\":\"fc4ebc84-a7fe-4f9b-8edb-818f46ab744a\",\"type\":\"BasicTicker\"},{\"attributes\":{},\"id\":\"eb4d4966-cdff-4a46-b794-44c6c98583b1\",\"type\":\"CategoricalTickFormatter\"},{\"attributes\":{\"plot\":{\"id\":\"264e1866-0558-41c3-82f7-3e1b16c19e07\",\"subtype\":\"Chart\",\"type\":\"Plot\"}},\"id\":\"6d0ec823-c629-48da-9d11-ef85a45643b1\",\"type\":\"ResetTool\"},{\"attributes\":{\"fill_alpha\":{\"field\":\"fill_alpha\"},\"fill_color\":{\"field\":\"color\"},\"height\":{\"field\":\"height\",\"units\":\"data\"},\"line_color\":{\"field\":\"line_color\"},\"width\":{\"field\":\"width\",\"units\":\"data\"},\"x\":{\"field\":\"x\"},\"y\":{\"field\":\"y\"}},\"id\":\"8e57c1c3-e6fc-49cf-ba30-43e81dec75fd\",\"type\":\"Rect\"},{\"attributes\":{\"plot\":{\"id\":\"264e1866-0558-41c3-82f7-3e1b16c19e07\",\"subtype\":\"Chart\",\"type\":\"Plot\"}},\"id\":\"a22b9923-9bff-4ab9-a4ce-c0ebe634a07f\",\"type\":\"HelpTool\"},{\"attributes\":{\"legends\":[[\"0\",[{\"id\":\"2ca58d76-a18b-4c0d-a582-267682d9ee2a\",\"type\":\"GlyphRenderer\"}]],[\"1\",[{\"id\":\"170634c6-6cf5-4282-b236-d1ff9ac01c6a\",\"type\":\"GlyphRenderer\"}]]],\"location\":\"top_left\",\"plot\":{\"id\":\"d22a540d-7931-4f33-b102-bb982de6f270\",\"subtype\":\"Chart\",\"type\":\"Plot\"}},\"id\":\"ac8383ce-aeff-4fcd-b4eb-04a4267db279\",\"type\":\"Legend\"},{\"attributes\":{\"fill_alpha\":{\"field\":\"fill_alpha\"},\"fill_color\":{\"field\":\"color\"},\"height\":{\"field\":\"height\",\"units\":\"data\"},\"line_color\":{\"field\":\"line_color\"},\"width\":{\"field\":\"width\",\"units\":\"data\"},\"x\":{\"field\":\"x\"},\"y\":{\"field\":\"y\"}},\"id\":\"4ac8355d-f327-4fe9-aa69-cecbdd8d1531\",\"type\":\"Rect\"},{\"attributes\":{\"axis_label\":\"Total Count\",\"formatter\":{\"id\":\"c63e17dc-8c21-4e86-96cc-ac3a878c81c2\",\"type\":\"BasicTickFormatter\"},\"plot\":{\"id\":\"d22a540d-7931-4f33-b102-bb982de6f270\",\"subtype\":\"Chart\",\"type\":\"Plot\"},\"ticker\":{\"id\":\"fc4ebc84-a7fe-4f9b-8edb-818f46ab744a\",\"type\":\"BasicTicker\"}},\"id\":\"edb8282e-c9a7-47c8-b910-08cd8d062de1\",\"type\":\"LinearAxis\"},{\"attributes\":{\"data_source\":{\"id\":\"5f46b970-dcbb-4331-81c9-c668d8329b3f\",\"type\":\"ColumnDataSource\"},\"glyph\":{\"id\":\"46106b83-99fb-4da3-9d6d-c2740deb645a\",\"type\":\"Rect\"},\"hover_glyph\":null,\"nonselection_glyph\":null,\"selection_glyph\":null},\"id\":\"2c27331d-b5ac-4d61-95f9-b65bb248b4e4\",\"type\":\"GlyphRenderer\"},{\"attributes\":{\"data_source\":{\"id\":\"7c4efbbf-83e3-415f-b2f5-3bd9babf7639\",\"type\":\"ColumnDataSource\"},\"glyph\":{\"id\":\"ff4d7de4-f386-458a-87a9-0d139d99ab4a\",\"type\":\"Rect\"},\"hover_glyph\":null,\"nonselection_glyph\":null,\"selection_glyph\":null},\"id\":\"17480f7a-6330-4bd1-8b98-a8fb26c3fc7a\",\"type\":\"GlyphRenderer\"},{\"attributes\":{\"plot\":{\"id\":\"d22a540d-7931-4f33-b102-bb982de6f270\",\"subtype\":\"Chart\",\"type\":\"Plot\"}},\"id\":\"f6952bfe-2fa0-4f4f-8c3a-2d2d8fa423be\",\"type\":\"WheelZoomTool\"},{\"attributes\":{\"callback\":null,\"column_names\":[\"width\",\"y\",\"height\",\"fill_alpha\",\"line_color\",\"x\",\"color\",\"line_alpha\"],\"data\":{\"Pclass\":[3],\"Survived\":[0],\"chart_index\":[{\"Pclass\":3,\"Survived\":0}],\"color\":[\"#f22c40\"],\"fill_alpha\":[0.8],\"height\":[372.0],\"line_alpha\":[1.0],\"line_color\":[\"white\"],\"width\":[0.8],\"x\":[\"3\"],\"y\":[186.0]}},\"id\":\"35321796-45f5-4797-a8d6-9d698f7718d7\",\"type\":\"ColumnDataSource\"},{\"attributes\":{\"plot\":{\"id\":\"264e1866-0558-41c3-82f7-3e1b16c19e07\",\"subtype\":\"Chart\",\"type\":\"Plot\"}},\"id\":\"243ca2d6-9194-4a6c-a347-6da0a014e394\",\"type\":\"ResizeTool\"},{\"attributes\":{\"fill_alpha\":{\"field\":\"fill_alpha\"},\"fill_color\":{\"field\":\"color\"},\"height\":{\"field\":\"height\",\"units\":\"data\"},\"line_color\":{\"field\":\"line_color\"},\"width\":{\"field\":\"width\",\"units\":\"data\"},\"x\":{\"field\":\"x\"},\"y\":{\"field\":\"y\"}},\"id\":\"6207fdab-69a7-4491-be78-fa99a4e86633\",\"type\":\"Rect\"},{\"attributes\":{\"data_source\":{\"id\":\"0d5e69a5-0fe3-4448-956e-978ea2d86af2\",\"type\":\"ColumnDataSource\"},\"glyph\":{\"id\":\"8e57c1c3-e6fc-49cf-ba30-43e81dec75fd\",\"type\":\"Rect\"},\"hover_glyph\":null,\"nonselection_glyph\":null,\"selection_glyph\":null},\"id\":\"1a4de41a-1c2c-4f47-a273-b2c72ac96b3f\",\"type\":\"GlyphRenderer\"},{\"attributes\":{},\"id\":\"d31236ba-bd9a-4d8f-be94-1d262359eb5d\",\"type\":\"CategoricalTicker\"},{\"attributes\":{\"fill_alpha\":{\"field\":\"fill_alpha\"},\"fill_color\":{\"field\":\"color\"},\"height\":{\"field\":\"height\",\"units\":\"data\"},\"line_color\":{\"field\":\"line_color\"},\"width\":{\"field\":\"width\",\"units\":\"data\"},\"x\":{\"field\":\"x\"},\"y\":{\"field\":\"y\"}},\"id\":\"6d0c6abe-61ca-44bc-ad9c-00c5ea3d6619\",\"type\":\"Rect\"},{\"attributes\":{\"callback\":null,\"column_names\":[\"width\",\"y\",\"height\",\"fill_alpha\",\"line_color\",\"x\",\"color\",\"line_alpha\"],\"data\":{\"Pclass\":[1],\"Survived\":[1],\"chart_index\":[{\"Pclass\":1,\"Survived\":1}],\"color\":[\"#5ab738\"],\"fill_alpha\":[0.8],\"height\":[136.0],\"line_alpha\":[1.0],\"line_color\":[\"white\"],\"width\":[0.8],\"x\":[\"1\"],\"y\":[68.0]}},\"id\":\"c2dcfe2d-1100-4143-bb5f-986f2f39fbb1\",\"type\":\"ColumnDataSource\"},{\"attributes\":{\"callback\":null,\"column_names\":[\"width\",\"y\",\"height\",\"fill_alpha\",\"line_color\",\"x\",\"color\",\"line_alpha\"],\"data\":{\"Pclass\":[2],\"Survived\":[1],\"chart_index\":[{\"Pclass\":2,\"Survived\":1}],\"color\":[\"#5ab738\"],\"fill_alpha\":[0.8],\"height\":[87.0],\"line_alpha\":[1.0],\"line_color\":[\"white\"],\"width\":[0.8],\"x\":[\"2\"],\"y\":[43.5]}},\"id\":\"0d5e69a5-0fe3-4448-956e-978ea2d86af2\",\"type\":\"ColumnDataSource\"},{\"attributes\":{\"data_source\":{\"id\":\"5852ebb8-bb4d-4e88-8b95-7b39c8c7b797\",\"type\":\"ColumnDataSource\"},\"glyph\":{\"id\":\"1ec285c6-2529-42e0-9edd-880df382b5e6\",\"type\":\"Rect\"},\"hover_glyph\":null,\"nonselection_glyph\":null,\"selection_glyph\":null},\"id\":\"b567d979-f12b-4957-88dc-adc0431bd313\",\"type\":\"GlyphRenderer\"},{\"attributes\":{\"callback\":null,\"end\":515.55},\"id\":\"7d764c1c-b635-46a4-bd78-512777687681\",\"type\":\"Range1d\"},{\"attributes\":{\"fill_alpha\":{\"field\":\"fill_alpha\"},\"fill_color\":{\"field\":\"color\"},\"height\":{\"field\":\"height\",\"units\":\"data\"},\"line_color\":{\"field\":\"line_color\"},\"width\":{\"field\":\"width\",\"units\":\"data\"},\"x\":{\"field\":\"x\"},\"y\":{\"field\":\"y\"}},\"id\":\"05f6c6c8-0b3c-45bd-86c8-51ae5b825e40\",\"type\":\"Rect\"},{\"attributes\":{\"axis_label\":\"Pclass\",\"formatter\":{\"id\":\"eb4d4966-cdff-4a46-b794-44c6c98583b1\",\"type\":\"CategoricalTickFormatter\"},\"major_label_orientation\":0.7853981633974483,\"plot\":{\"id\":\"d22a540d-7931-4f33-b102-bb982de6f270\",\"subtype\":\"Chart\",\"type\":\"Plot\"},\"ticker\":{\"id\":\"d31236ba-bd9a-4d8f-be94-1d262359eb5d\",\"type\":\"CategoricalTicker\"}},\"id\":\"edf14ec0-e118-4d32-9f68-f6d2b5646faf\",\"type\":\"CategoricalAxis\"},{\"attributes\":{\"overlay\":{\"id\":\"ffbed8ce-e1a4-4447-bb1a-44d2391187d5\",\"type\":\"BoxAnnotation\"},\"plot\":{\"id\":\"264e1866-0558-41c3-82f7-3e1b16c19e07\",\"subtype\":\"Chart\",\"type\":\"Plot\"}},\"id\":\"9ec9e1ff-f495-405d-97f3-004f3cfc4221\",\"type\":\"BoxZoomTool\"},{\"attributes\":{},\"id\":\"79f186b2-a27b-416d-ad56-9a0c36d6afdb\",\"type\":\"BasicTicker\"},{\"attributes\":{\"dimension\":1,\"plot\":{\"id\":\"d22a540d-7931-4f33-b102-bb982de6f270\",\"subtype\":\"Chart\",\"type\":\"Plot\"},\"ticker\":{\"id\":\"fc4ebc84-a7fe-4f9b-8edb-818f46ab744a\",\"type\":\"BasicTicker\"}},\"id\":\"94c12c18-653d-493a-a18d-521a3aaf2a0e\",\"type\":\"Grid\"},{\"attributes\":{\"data_source\":{\"id\":\"672f1ec6-554f-415b-af63-3d70eea15341\",\"type\":\"ColumnDataSource\"},\"glyph\":{\"id\":\"24a6b8e3-409d-455f-a3fc-86435f5523c7\",\"type\":\"Rect\"},\"hover_glyph\":null,\"nonselection_glyph\":null,\"selection_glyph\":null},\"id\":\"5158d91a-5d84-4463-8af9-92df98f6a0eb\",\"type\":\"GlyphRenderer\"},{\"attributes\":{\"callback\":null,\"end\":515.55},\"id\":\"5e073ff4-badd-4ac4-99be-01c6d8ccc4b8\",\"type\":\"Range1d\"},{\"attributes\":{},\"id\":\"38d11674-70ac-45df-a4db-c4cd2605c86e\",\"type\":\"CategoricalTickFormatter\"},{\"attributes\":{\"bottom_units\":\"screen\",\"fill_alpha\":{\"value\":0.5},\"fill_color\":{\"value\":\"lightgrey\"},\"left_units\":\"screen\",\"level\":\"overlay\",\"line_alpha\":{\"value\":1.0},\"line_color\":{\"value\":\"black\"},\"line_dash\":[4,4],\"line_width\":{\"value\":2},\"plot\":null,\"render_mode\":\"css\",\"right_units\":\"screen\",\"top_units\":\"screen\"},\"id\":\"7e64c24f-466d-41d1-8758-acf845c40554\",\"type\":\"BoxAnnotation\"},{\"attributes\":{\"callback\":null,\"factors\":[\"1\",\"2\",\"3\"]},\"id\":\"8c9e573a-922c-4af3-bf9e-2773ff423d35\",\"type\":\"FactorRange\"},{\"attributes\":{\"callback\":null,\"column_names\":[\"width\",\"y\",\"height\",\"fill_alpha\",\"line_color\",\"x\",\"color\",\"line_alpha\"],\"data\":{\"Pclass\":[2],\"Survived\":[1],\"chart_index\":[{\"Pclass\":2,\"Survived\":1}],\"color\":[\"#5ab738\"],\"fill_alpha\":[0.8],\"height\":[87.0],\"line_alpha\":[1.0],\"line_color\":[\"white\"],\"width\":[0.8],\"x\":[\"2\"],\"y\":[43.5]}},\"id\":\"b7dc5038-2308-4eda-84f7-018ae5910cfa\",\"type\":\"ColumnDataSource\"},{\"attributes\":{},\"id\":\"107c7848-8f80-4f22-9cc1-e76cb9c55943\",\"type\":\"ToolEvents\"},{\"attributes\":{\"below\":[{\"id\":\"edf14ec0-e118-4d32-9f68-f6d2b5646faf\",\"type\":\"CategoricalAxis\"}],\"left\":[{\"id\":\"edb8282e-c9a7-47c8-b910-08cd8d062de1\",\"type\":\"LinearAxis\"}],\"legend\":\"top_left\",\"plot_height\":500,\"renderers\":[{\"id\":\"7e64c24f-466d-41d1-8758-acf845c40554\",\"type\":\"BoxAnnotation\"},{\"id\":\"2ca58d76-a18b-4c0d-a582-267682d9ee2a\",\"type\":\"GlyphRenderer\"},{\"id\":\"170634c6-6cf5-4282-b236-d1ff9ac01c6a\",\"type\":\"GlyphRenderer\"},{\"id\":\"b567d979-f12b-4957-88dc-adc0431bd313\",\"type\":\"GlyphRenderer\"},{\"id\":\"5158d91a-5d84-4463-8af9-92df98f6a0eb\",\"type\":\"GlyphRenderer\"},{\"id\":\"23eaa993-b673-4c4d-a1f7-4b3d9bf71e5c\",\"type\":\"GlyphRenderer\"},{\"id\":\"376823c0-d770-4c30-a098-ac2c5387697e\",\"type\":\"GlyphRenderer\"},{\"id\":\"ac8383ce-aeff-4fcd-b4eb-04a4267db279\",\"type\":\"Legend\"},{\"id\":\"edf14ec0-e118-4d32-9f68-f6d2b5646faf\",\"type\":\"CategoricalAxis\"},{\"id\":\"edb8282e-c9a7-47c8-b910-08cd8d062de1\",\"type\":\"LinearAxis\"},{\"id\":\"94c12c18-653d-493a-a18d-521a3aaf2a0e\",\"type\":\"Grid\"}],\"title\":\"Survival rate\",\"title_text_font_size\":{\"value\":\"14pt\"},\"tool_events\":{\"id\":\"7a70e587-b2b7-4b1b-a75f-3482cd53dc28\",\"type\":\"ToolEvents\"},\"tools\":[{\"id\":\"a0c928a8-cafa-48f0-bab7-dd71e88afe84\",\"type\":\"PanTool\"},{\"id\":\"f6952bfe-2fa0-4f4f-8c3a-2d2d8fa423be\",\"type\":\"WheelZoomTool\"},{\"id\":\"1df2d821-237f-4e30-b72e-62f7b56ae89c\",\"type\":\"BoxZoomTool\"},{\"id\":\"31418c84-2461-4e36-89a7-1966a7550ff8\",\"type\":\"PreviewSaveTool\"},{\"id\":\"23c479dd-4836-4f53-b70d-a015f9bedf60\",\"type\":\"ResizeTool\"},{\"id\":\"63a4c1ac-bd79-404b-9ace-f48b0d5af545\",\"type\":\"ResetTool\"},{\"id\":\"7e2fe22b-dd8d-404b-8349-f7576d9a7229\",\"type\":\"HelpTool\"}],\"x_mapper_type\":\"auto\",\"x_range\":{\"id\":\"5cf0f809-c573-4b28-8300-8b3646a4354f\",\"type\":\"FactorRange\"},\"xgrid\":false,\"xscale\":\"auto\",\"y_mapper_type\":\"auto\",\"y_range\":{\"id\":\"5e073ff4-badd-4ac4-99be-01c6d8ccc4b8\",\"type\":\"Range1d\"},\"yscale\":\"auto\"},\"id\":\"d22a540d-7931-4f33-b102-bb982de6f270\",\"subtype\":\"Chart\",\"type\":\"Plot\"},{\"attributes\":{\"axis_label\":\"Pclass\",\"formatter\":{\"id\":\"38d11674-70ac-45df-a4db-c4cd2605c86e\",\"type\":\"CategoricalTickFormatter\"},\"major_label_orientation\":0.7853981633974483,\"plot\":{\"id\":\"264e1866-0558-41c3-82f7-3e1b16c19e07\",\"subtype\":\"Chart\",\"type\":\"Plot\"},\"ticker\":{\"id\":\"235d3199-50d4-4f99-b122-a72148b69412\",\"type\":\"CategoricalTicker\"}},\"id\":\"8ff12142-028e-4263-af9c-11ff475f644b\",\"type\":\"CategoricalAxis\"},{\"attributes\":{\"legends\":[[\"0\",[{\"id\":\"2c27331d-b5ac-4d61-95f9-b65bb248b4e4\",\"type\":\"GlyphRenderer\"}]],[\"1\",[{\"id\":\"17480f7a-6330-4bd1-8b98-a8fb26c3fc7a\",\"type\":\"GlyphRenderer\"}]]],\"location\":\"top_left\",\"plot\":{\"id\":\"264e1866-0558-41c3-82f7-3e1b16c19e07\",\"subtype\":\"Chart\",\"type\":\"Plot\"}},\"id\":\"1d733bb8-eded-4b59-9b1d-4b0d234e5f77\",\"type\":\"Legend\"},{\"attributes\":{\"callback\":null,\"factors\":[\"1\",\"2\",\"3\"]},\"id\":\"5cf0f809-c573-4b28-8300-8b3646a4354f\",\"type\":\"FactorRange\"},{\"attributes\":{\"fill_alpha\":{\"field\":\"fill_alpha\"},\"fill_color\":{\"field\":\"color\"},\"height\":{\"field\":\"height\",\"units\":\"data\"},\"line_color\":{\"field\":\"line_color\"},\"width\":{\"field\":\"width\",\"units\":\"data\"},\"x\":{\"field\":\"x\"},\"y\":{\"field\":\"y\"}},\"id\":\"022f5374-eb5b-4725-ad2b-9a0bdfad9238\",\"type\":\"Rect\"},{\"attributes\":{\"data_source\":{\"id\":\"c2dcfe2d-1100-4143-bb5f-986f2f39fbb1\",\"type\":\"ColumnDataSource\"},\"glyph\":{\"id\":\"27238b7a-d593-45e3-ba51-df2ba3b89713\",\"type\":\"Rect\"},\"hover_glyph\":null,\"nonselection_glyph\":null,\"selection_glyph\":null},\"id\":\"170634c6-6cf5-4282-b236-d1ff9ac01c6a\",\"type\":\"GlyphRenderer\"},{\"attributes\":{\"overlay\":{\"id\":\"7e64c24f-466d-41d1-8758-acf845c40554\",\"type\":\"BoxAnnotation\"},\"plot\":{\"id\":\"d22a540d-7931-4f33-b102-bb982de6f270\",\"subtype\":\"Chart\",\"type\":\"Plot\"}},\"id\":\"1df2d821-237f-4e30-b72e-62f7b56ae89c\",\"type\":\"BoxZoomTool\"},{\"attributes\":{\"fill_alpha\":{\"field\":\"fill_alpha\"},\"fill_color\":{\"field\":\"color\"},\"height\":{\"field\":\"height\",\"units\":\"data\"},\"line_color\":{\"field\":\"line_color\"},\"width\":{\"field\":\"width\",\"units\":\"data\"},\"x\":{\"field\":\"x\"},\"y\":{\"field\":\"y\"}},\"id\":\"1ec285c6-2529-42e0-9edd-880df382b5e6\",\"type\":\"Rect\"},{\"attributes\":{\"below\":[{\"id\":\"8ff12142-028e-4263-af9c-11ff475f644b\",\"type\":\"CategoricalAxis\"}],\"left\":[{\"id\":\"3607d65a-fd4a-406d-8388-81ae1d6cee8a\",\"type\":\"LinearAxis\"}],\"legend\":\"top_left\",\"plot_height\":500,\"renderers\":[{\"id\":\"ffbed8ce-e1a4-4447-bb1a-44d2391187d5\",\"type\":\"BoxAnnotation\"},{\"id\":\"2c27331d-b5ac-4d61-95f9-b65bb248b4e4\",\"type\":\"GlyphRenderer\"},{\"id\":\"17480f7a-6330-4bd1-8b98-a8fb26c3fc7a\",\"type\":\"GlyphRenderer\"},{\"id\":\"599d2cae-32dc-4077-9b3f-b88d223a875a\",\"type\":\"GlyphRenderer\"},{\"id\":\"6ffbd012-fd02-4286-b8f9-523f1d58c9a7\",\"type\":\"GlyphRenderer\"},{\"id\":\"1a4de41a-1c2c-4f47-a273-b2c72ac96b3f\",\"type\":\"GlyphRenderer\"},{\"id\":\"0a1be355-3212-4416-b3a1-24c41e6368a9\",\"type\":\"GlyphRenderer\"},{\"id\":\"1d733bb8-eded-4b59-9b1d-4b0d234e5f77\",\"type\":\"Legend\"},{\"id\":\"8ff12142-028e-4263-af9c-11ff475f644b\",\"type\":\"CategoricalAxis\"},{\"id\":\"3607d65a-fd4a-406d-8388-81ae1d6cee8a\",\"type\":\"LinearAxis\"},{\"id\":\"dd367e19-54bc-425c-af79-05d3022638fe\",\"type\":\"Grid\"}],\"title\":\"Survival rate\",\"title_text_font_size\":{\"value\":\"14pt\"},\"tool_events\":{\"id\":\"107c7848-8f80-4f22-9cc1-e76cb9c55943\",\"type\":\"ToolEvents\"},\"tools\":[{\"id\":\"88f49952-8b96-4272-9406-efcf0c5397f7\",\"type\":\"PanTool\"},{\"id\":\"e25550f9-5a5c-42b3-9d7c-5633631bcb59\",\"type\":\"WheelZoomTool\"},{\"id\":\"9ec9e1ff-f495-405d-97f3-004f3cfc4221\",\"type\":\"BoxZoomTool\"},{\"id\":\"9648afb4-7a2f-43d8-8dc0-f48eaef9770f\",\"type\":\"PreviewSaveTool\"},{\"id\":\"243ca2d6-9194-4a6c-a347-6da0a014e394\",\"type\":\"ResizeTool\"},{\"id\":\"6d0ec823-c629-48da-9d11-ef85a45643b1\",\"type\":\"ResetTool\"},{\"id\":\"a22b9923-9bff-4ab9-a4ce-c0ebe634a07f\",\"type\":\"HelpTool\"}],\"x_mapper_type\":\"auto\",\"x_range\":{\"id\":\"8c9e573a-922c-4af3-bf9e-2773ff423d35\",\"type\":\"FactorRange\"},\"xgrid\":false,\"xscale\":\"auto\",\"y_mapper_type\":\"auto\",\"y_range\":{\"id\":\"7d764c1c-b635-46a4-bd78-512777687681\",\"type\":\"Range1d\"},\"yscale\":\"auto\"},\"id\":\"264e1866-0558-41c3-82f7-3e1b16c19e07\",\"subtype\":\"Chart\",\"type\":\"Plot\"},{\"attributes\":{\"data_source\":{\"id\":\"913f957b-8f1b-45bd-811b-9e02ea5484ea\",\"type\":\"ColumnDataSource\"},\"glyph\":{\"id\":\"022f5374-eb5b-4725-ad2b-9a0bdfad9238\",\"type\":\"Rect\"},\"hover_glyph\":null,\"nonselection_glyph\":null,\"selection_glyph\":null},\"id\":\"6ffbd012-fd02-4286-b8f9-523f1d58c9a7\",\"type\":\"GlyphRenderer\"},{\"attributes\":{\"fill_alpha\":{\"field\":\"fill_alpha\"},\"fill_color\":{\"field\":\"color\"},\"height\":{\"field\":\"height\",\"units\":\"data\"},\"line_color\":{\"field\":\"line_color\"},\"width\":{\"field\":\"width\",\"units\":\"data\"},\"x\":{\"field\":\"x\"},\"y\":{\"field\":\"y\"}},\"id\":\"8f08ffce-21ab-4b8d-b50b-7e9ae235f4d3\",\"type\":\"Rect\"},{\"attributes\":{\"plot\":{\"id\":\"d22a540d-7931-4f33-b102-bb982de6f270\",\"subtype\":\"Chart\",\"type\":\"Plot\"}},\"id\":\"23c479dd-4836-4f53-b70d-a015f9bedf60\",\"type\":\"ResizeTool\"},{\"attributes\":{\"data_source\":{\"id\":\"b7dc5038-2308-4eda-84f7-018ae5910cfa\",\"type\":\"ColumnDataSource\"},\"glyph\":{\"id\":\"6207fdab-69a7-4491-be78-fa99a4e86633\",\"type\":\"Rect\"},\"hover_glyph\":null,\"nonselection_glyph\":null,\"selection_glyph\":null},\"id\":\"23eaa993-b673-4c4d-a1f7-4b3d9bf71e5c\",\"type\":\"GlyphRenderer\"},{\"attributes\":{\"dimension\":1,\"plot\":{\"id\":\"264e1866-0558-41c3-82f7-3e1b16c19e07\",\"subtype\":\"Chart\",\"type\":\"Plot\"},\"ticker\":{\"id\":\"79f186b2-a27b-416d-ad56-9a0c36d6afdb\",\"type\":\"BasicTicker\"}},\"id\":\"dd367e19-54bc-425c-af79-05d3022638fe\",\"type\":\"Grid\"},{\"attributes\":{\"fill_alpha\":{\"field\":\"fill_alpha\"},\"fill_color\":{\"field\":\"color\"},\"height\":{\"field\":\"height\",\"units\":\"data\"},\"line_color\":{\"field\":\"line_color\"},\"width\":{\"field\":\"width\",\"units\":\"data\"},\"x\":{\"field\":\"x\"},\"y\":{\"field\":\"y\"}},\"id\":\"27238b7a-d593-45e3-ba51-df2ba3b89713\",\"type\":\"Rect\"},{\"attributes\":{\"data_source\":{\"id\":\"4d59540a-3024-4029-9788-26b4f05a72f5\",\"type\":\"ColumnDataSource\"},\"glyph\":{\"id\":\"8f08ffce-21ab-4b8d-b50b-7e9ae235f4d3\",\"type\":\"Rect\"},\"hover_glyph\":null,\"nonselection_glyph\":null,\"selection_glyph\":null},\"id\":\"376823c0-d770-4c30-a098-ac2c5387697e\",\"type\":\"GlyphRenderer\"}],\"root_ids\":[\"264e1866-0558-41c3-82f7-3e1b16c19e07\",\"d22a540d-7931-4f33-b102-bb982de6f270\"]},\"title\":\"Bokeh Application\",\"version\":\"0.11.1\"}};\n",
       "            var render_items = [{\"docid\":\"615210f7-e4b0-4886-a674-d8bdbd6bc7de\",\"elementid\":\"dd05be53-eea9-4a07-899d-c3dbd4e03b84\",\"modelid\":\"d22a540d-7931-4f33-b102-bb982de6f270\",\"notebook_comms_target\":\"d3d66c36-6892-440d-ae7d-96a29e1f93e1\"}];\n",
       "            \n",
       "            Bokeh.embed.embed_items(docs_json, render_items);\n",
       "        });\n",
       "      },\n",
       "      function(Bokeh) {\n",
       "      }\n",
       "    ];\n",
       "  \n",
       "    function run_inline_js() {\n",
       "      for (var i = 0; i < inline_js.length; i++) {\n",
       "        inline_js[i](window.Bokeh);\n",
       "      }\n",
       "    }\n",
       "  \n",
       "    if (window._bokeh_is_loading === 0) {\n",
       "      console.log(\"Bokeh: BokehJS loaded, going straight to plotting\");\n",
       "      run_inline_js();\n",
       "    } else {\n",
       "      load_libs(js_urls, function() {\n",
       "        console.log(\"Bokeh: BokehJS plotting callback run at\", now());\n",
       "        run_inline_js();\n",
       "      });\n",
       "    }\n",
       "  }(this));\n",
       "</script>"
      ]
     },
     "metadata": {},
     "output_type": "display_data"
    }
   ],
   "source": [
    "# Bokeh plotting\n",
    "\n",
    "from bokeh.charts import Bar, output_notebook, show\n",
    "from bokeh.plotting import figure\n",
    "\n",
    "p=Bar(data_train, label = 'Pclass',  \n",
    "      stack = 'Survived', \n",
    "      legend='top_left',\n",
    "      width = 600,height =500,\n",
    "      xlabel = 'Pclass',\n",
    "      ylabel = 'Total Count',\n",
    "      title = 'Survival rate')\n",
    "\n",
    "output_notebook()\n",
    "show(p);"
   ]
  },
  {
   "cell_type": "code",
   "execution_count": 90,
   "metadata": {
    "collapsed": false
   },
   "outputs": [
    {
     "data": {
      "text/plain": [
       "True"
      ]
     },
     "execution_count": 90,
     "metadata": {},
     "output_type": "execute_result"
    }
   ],
   "source": [
    "# N.B. Are all names unique in the training set ?\n",
    "len(data_train) == len(data_train.Name.unique())"
   ]
  },
  {
   "cell_type": "markdown",
   "metadata": {},
   "source": [
    "### Titles"
   ]
  },
  {
   "cell_type": "code",
   "execution_count": 91,
   "metadata": {
    "collapsed": false
   },
   "outputs": [
    {
     "data": {
      "text/plain": [
       "0                              Braund, Mr. Owen Harris\n",
       "1    Cumings, Mrs. John Bradley (Florence Briggs Th...\n",
       "2                               Heikkinen, Miss. Laina\n",
       "3         Futrelle, Mrs. Jacques Heath (Lily May Peel)\n",
       "4                             Allen, Mr. William Henry\n",
       "Name: Name, dtype: object"
      ]
     },
     "execution_count": 91,
     "metadata": {},
     "output_type": "execute_result"
    }
   ],
   "source": [
    "# Let's look at names: Titles are after comma inside names\n",
    "data_train.Name.head()"
   ]
  },
  {
   "cell_type": "code",
   "execution_count": 92,
   "metadata": {
    "collapsed": false
   },
   "outputs": [
    {
     "name": "stdout",
     "output_type": "stream",
     "text": [
      "Mr.\n"
     ]
    }
   ],
   "source": [
    "# The first name has title 'Mr.'\n",
    "print(data_train.Name[0].split(sep=',')[1].strip().split()[0].strip())"
   ]
  },
  {
   "cell_type": "code",
   "execution_count": 93,
   "metadata": {
    "collapsed": true
   },
   "outputs": [],
   "source": [
    "# Helper function to extrat titles\n",
    "def extract_title(name):\n",
    "    return name.split(sep=',')[1].strip().split()[0].strip()"
   ]
  },
  {
   "cell_type": "code",
   "execution_count": 94,
   "metadata": {
    "collapsed": false
   },
   "outputs": [
    {
     "name": "stdout",
     "output_type": "stream",
     "text": [
      "['Mr.' 'Mrs.' 'Miss.' 'Master.' 'Don.' 'Rev.' 'Dr.' 'Mme.' 'Ms.' 'Major.'\n",
      " 'Lady.' 'Sir.' 'Mlle.' 'Col.' 'Capt.' 'the' 'Jonkheer.']\n"
     ]
    }
   ],
   "source": [
    "titles = data_train['Name'].apply(extract_title)\n",
    "print(titles.unique())"
   ]
  },
  {
   "cell_type": "code",
   "execution_count": 95,
   "metadata": {
    "collapsed": false
   },
   "outputs": [
    {
     "data": {
      "text/html": [
       "<div>\n",
       "<table border=\"1\" class=\"dataframe\">\n",
       "  <thead>\n",
       "    <tr style=\"text-align: right;\">\n",
       "      <th></th>\n",
       "      <th>PassengerId</th>\n",
       "      <th>Survived</th>\n",
       "      <th>Pclass</th>\n",
       "      <th>Name</th>\n",
       "      <th>Sex</th>\n",
       "      <th>Age</th>\n",
       "      <th>SibSp</th>\n",
       "      <th>Parch</th>\n",
       "      <th>Ticket</th>\n",
       "      <th>Fare</th>\n",
       "      <th>Cabin</th>\n",
       "      <th>Embarked</th>\n",
       "    </tr>\n",
       "  </thead>\n",
       "  <tbody>\n",
       "    <tr>\n",
       "      <th>759</th>\n",
       "      <td>760</td>\n",
       "      <td>1</td>\n",
       "      <td>1</td>\n",
       "      <td>Rothes, the Countess. of (Lucy Noel Martha Dye...</td>\n",
       "      <td>female</td>\n",
       "      <td>33.0</td>\n",
       "      <td>0</td>\n",
       "      <td>0</td>\n",
       "      <td>110152</td>\n",
       "      <td>86.5</td>\n",
       "      <td>B77</td>\n",
       "      <td>S</td>\n",
       "    </tr>\n",
       "  </tbody>\n",
       "</table>\n",
       "</div>"
      ],
      "text/plain": [
       "     PassengerId  Survived  Pclass  \\\n",
       "759          760         1       1   \n",
       "\n",
       "                                                  Name     Sex   Age  SibSp  \\\n",
       "759  Rothes, the Countess. of (Lucy Noel Martha Dye...  female  33.0      0   \n",
       "\n",
       "     Parch  Ticket  Fare Cabin Embarked  \n",
       "759      0  110152  86.5   B77        S  "
      ]
     },
     "execution_count": 95,
     "metadata": {},
     "output_type": "execute_result"
    }
   ],
   "source": [
    "# Who has title 'the' ? It is female of 33 year old. It should be Mrs.\n",
    "\n",
    "data_train[titles == 'the']"
   ]
  },
  {
   "cell_type": "code",
   "execution_count": 96,
   "metadata": {
    "collapsed": false
   },
   "outputs": [
    {
     "data": {
      "text/plain": [
       "array(['Mr.', 'Mrs.', 'Miss.', 'Master.'], dtype=object)"
      ]
     },
     "execution_count": 96,
     "metadata": {},
     "output_type": "execute_result"
    }
   ],
   "source": [
    "# Collapsing titles\n",
    "\n",
    "titles = titles.apply(lambda x: 'Mrs.' if x in ['the','Dona.','Mme.','Lady.'] else x)\n",
    "titles = titles.apply(lambda x: 'Miss.' if x in ['Ms.','Mlle.'] else x)\n",
    "titles = titles.apply(lambda x: 'Mr.' if x in\n",
    "                        ['Jonkheer.','Don.','Col.','Capt.','Major.','Dr.','Rev.','Sir.'] else x)\n",
    "\n",
    "titles.unique()"
   ]
  },
  {
   "cell_type": "code",
   "execution_count": 97,
   "metadata": {
    "collapsed": false
   },
   "outputs": [],
   "source": [
    "# Finally add new feature\n",
    "\n",
    "data_train['Title'] = titles"
   ]
  },
  {
   "cell_type": "code",
   "execution_count": 98,
   "metadata": {
    "collapsed": false
   },
   "outputs": [
    {
     "data": {
      "text/plain": [
       "array(['Mr.', 'Mrs.', 'Miss.', 'Master.'], dtype=object)"
      ]
     },
     "execution_count": 98,
     "metadata": {},
     "output_type": "execute_result"
    }
   ],
   "source": [
    "# Let's repeat this rocedure for the test dataset\n",
    "titles_test = data_test['Name'].apply(extract_title)\n",
    "\n",
    "titles_test = titles_test.apply(lambda x: 'Mrs.' if x in ['the','Dona.','Mme.','Lady.'] else x)\n",
    "titles_test = titles_test.apply(lambda x: 'Miss.' if x in ['Ms.','Mlle.'] else x)\n",
    "titles_test = titles_test.apply(lambda x: 'Mr.' if x in\n",
    "                        ['Jonkheer.','Don.','Col.','Capt.','Major.','Dr.','Rev.','Sir.'] else x)\n",
    "\n",
    "data_test['Title'] = titles_test\n",
    "data_test['Title'].unique()"
   ]
  },
  {
   "cell_type": "code",
   "execution_count": 99,
   "metadata": {
    "collapsed": false
   },
   "outputs": [
    {
     "data": {
      "text/plain": [
       "male      119\n",
       "female      1\n",
       "Name: Sex, dtype: int64"
      ]
     },
     "execution_count": 99,
     "metadata": {},
     "output_type": "execute_result"
    }
   ],
   "source": [
    "# There is one female among Mr. in the first class\n",
    "data_train[(data_train.Title == 'Mr.') & (data_train.Pclass == 1)].Sex.value_counts()"
   ]
  },
  {
   "cell_type": "code",
   "execution_count": 100,
   "metadata": {
    "collapsed": false
   },
   "outputs": [
    {
     "data": {
      "text/html": [
       "<div>\n",
       "<table border=\"1\" class=\"dataframe\">\n",
       "  <thead>\n",
       "    <tr style=\"text-align: right;\">\n",
       "      <th></th>\n",
       "      <th>PassengerId</th>\n",
       "      <th>Survived</th>\n",
       "      <th>Pclass</th>\n",
       "      <th>Name</th>\n",
       "      <th>Sex</th>\n",
       "      <th>Age</th>\n",
       "      <th>SibSp</th>\n",
       "      <th>Parch</th>\n",
       "      <th>Ticket</th>\n",
       "      <th>Fare</th>\n",
       "      <th>Cabin</th>\n",
       "      <th>Embarked</th>\n",
       "      <th>Title</th>\n",
       "    </tr>\n",
       "  </thead>\n",
       "  <tbody>\n",
       "    <tr>\n",
       "      <th>796</th>\n",
       "      <td>797</td>\n",
       "      <td>1</td>\n",
       "      <td>1</td>\n",
       "      <td>Leader, Dr. Alice (Farnham)</td>\n",
       "      <td>female</td>\n",
       "      <td>49.0</td>\n",
       "      <td>0</td>\n",
       "      <td>0</td>\n",
       "      <td>17465</td>\n",
       "      <td>25.9292</td>\n",
       "      <td>D17</td>\n",
       "      <td>S</td>\n",
       "      <td>Mr.</td>\n",
       "    </tr>\n",
       "  </tbody>\n",
       "</table>\n",
       "</div>"
      ],
      "text/plain": [
       "     PassengerId  Survived  Pclass                         Name     Sex   Age  \\\n",
       "796          797         1       1  Leader, Dr. Alice (Farnham)  female  49.0   \n",
       "\n",
       "     SibSp  Parch Ticket     Fare Cabin Embarked Title  \n",
       "796      0      0  17465  25.9292   D17        S   Mr.  "
      ]
     },
     "execution_count": 100,
     "metadata": {},
     "output_type": "execute_result"
    }
   ],
   "source": [
    "# Who is that ?\n",
    "data_train[(data_train.Title == 'Mr.') & (data_train.Pclass == 1) \n",
    "           & (data_train.Sex =='female')]"
   ]
  },
  {
   "cell_type": "code",
   "execution_count": 101,
   "metadata": {
    "collapsed": false
   },
   "outputs": [
    {
     "data": {
      "text/html": [
       "<div>\n",
       "<table border=\"1\" class=\"dataframe\">\n",
       "  <thead>\n",
       "    <tr style=\"text-align: right;\">\n",
       "      <th></th>\n",
       "      <th>PassengerId</th>\n",
       "      <th>Survived</th>\n",
       "      <th>Pclass</th>\n",
       "      <th>Name</th>\n",
       "      <th>Sex</th>\n",
       "      <th>Age</th>\n",
       "      <th>SibSp</th>\n",
       "      <th>Parch</th>\n",
       "      <th>Ticket</th>\n",
       "      <th>Fare</th>\n",
       "      <th>Cabin</th>\n",
       "      <th>Embarked</th>\n",
       "      <th>Title</th>\n",
       "    </tr>\n",
       "  </thead>\n",
       "  <tbody>\n",
       "    <tr>\n",
       "      <th>796</th>\n",
       "      <td>797</td>\n",
       "      <td>1</td>\n",
       "      <td>1</td>\n",
       "      <td>Leader, Dr. Alice (Farnham)</td>\n",
       "      <td>female</td>\n",
       "      <td>49</td>\n",
       "      <td>0</td>\n",
       "      <td>0</td>\n",
       "      <td>17465</td>\n",
       "      <td>25.9292</td>\n",
       "      <td>D17</td>\n",
       "      <td>S</td>\n",
       "      <td>Mrs.</td>\n",
       "    </tr>\n",
       "  </tbody>\n",
       "</table>\n",
       "</div>"
      ],
      "text/plain": [
       "    PassengerId Survived Pclass                         Name     Sex Age  \\\n",
       "796         797        1      1  Leader, Dr. Alice (Farnham)  female  49   \n",
       "\n",
       "    SibSp Parch Ticket     Fare Cabin Embarked Title  \n",
       "796     0     0  17465  25.9292   D17        S  Mrs.  "
      ]
     },
     "execution_count": 101,
     "metadata": {},
     "output_type": "execute_result"
    }
   ],
   "source": [
    "# Let's change 'Mr.' to 'Mrs.' \n",
    "data_train.loc[796,'Title'] = 'Mrs.'\n",
    "pd.DataFrame(data_train.loc[796,:]).T"
   ]
  },
  {
   "cell_type": "code",
   "execution_count": 102,
   "metadata": {
    "collapsed": false
   },
   "outputs": [],
   "source": [
    "# Finally we visualize titles\n",
    "# First we prepare three datafarmes for three Pclasses\n",
    "\n",
    "df1 = data_train[data_train.Pclass == 1].groupby('Title')['Survived'].value_counts().unstack()\n",
    "df2 = data_train[data_train.Pclass == 2].groupby('Title')['Survived'].value_counts().unstack()\n",
    "df3 = data_train[data_train.Pclass == 3].groupby('Title')['Survived'].value_counts().unstack()"
   ]
  },
  {
   "cell_type": "code",
   "execution_count": 103,
   "metadata": {
    "collapsed": false
   },
   "outputs": [
    {
     "data": {
      "image/png": "[encoded data removed]",
      "text/plain": [
       "<matplotlib.figure.Figure at 0x7febd8925cc0>"
      ]
     },
     "metadata": {},
     "output_type": "display_data"
    }
   ],
   "source": [
    "fig, axs = plt.subplots(nrows=1,ncols=3,sharey=True)\n",
    "fig.set_size_inches(15,5)\n",
    "fig.suptitle('Pclass',size=15)\n",
    "df1.plot.bar(stacked=True,ax=axs[0],cmap = plt.cm.RdYlGn)\n",
    "df2.plot.bar(stacked=True,ax=axs[1],cmap = plt.cm.RdYlGn)\n",
    "df3.plot.bar(stacked=True,ax=axs[2],cmap = plt.cm.RdYlGn)\n",
    "axs[0].set_ylabel('Total count')\n",
    "axs[0].set_title('1'); axs[1].set_title('2');axs[2].set_title('3');"
   ]
  },
  {
   "cell_type": "markdown",
   "metadata": {},
   "source": [
    "### Names"
   ]
  },
  {
   "cell_type": "code",
   "execution_count": 104,
   "metadata": {
    "collapsed": true
   },
   "outputs": [],
   "source": [
    "# Helper function to extrat second names\n",
    "def extract_second_name(name):\n",
    "    return name.split(sep=',')[0].strip().split()[0].strip()"
   ]
  },
  {
   "cell_type": "code",
   "execution_count": 105,
   "metadata": {
    "collapsed": true
   },
   "outputs": [],
   "source": [
    "data_train['Second_name']= data_train['Name'].apply(extract_second_name)\n",
    "data_test['Second_name']= data_test['Name'].apply(extract_second_name)"
   ]
  },
  {
   "cell_type": "code",
   "execution_count": 106,
   "metadata": {
    "collapsed": false
   },
   "outputs": [],
   "source": [
    "# We do not need column 'Name' anymore\n",
    "data_train = data_train.drop('Name',axis=1)\n",
    "data_test = data_test.drop('Name',axis=1)"
   ]
  },
  {
   "cell_type": "markdown",
   "metadata": {},
   "source": [
    "### Sex"
   ]
  },
  {
   "cell_type": "code",
   "execution_count": 107,
   "metadata": {
    "collapsed": false
   },
   "outputs": [
    {
     "data": {
      "text/plain": [
       "male      577\n",
       "female    314\n",
       "Name: Sex, dtype: int64"
      ]
     },
     "execution_count": 107,
     "metadata": {},
     "output_type": "execute_result"
    }
   ],
   "source": [
    "# How many sexes are there\n",
    "data_train.Sex.value_counts()"
   ]
  },
  {
   "cell_type": "code",
   "execution_count": 108,
   "metadata": {
    "collapsed": true
   },
   "outputs": [],
   "source": [
    "# Let's vizualise again\n",
    "df1 = data_train[data_train.Pclass == 1].groupby('Sex')['Survived'].value_counts().unstack()\n",
    "df2 = data_train[data_train.Pclass == 2].groupby('Sex')['Survived'].value_counts().unstack()\n",
    "df3 = data_train[data_train.Pclass == 3].groupby('Sex')['Survived'].value_counts().unstack()"
   ]
  },
  {
   "cell_type": "code",
   "execution_count": 109,
   "metadata": {
    "collapsed": false
   },
   "outputs": [
    {
     "data": {
      "image/png": "[encoded data removed]",
      "text/plain": [
       "<matplotlib.figure.Figure at 0x7febd8cc4208>"
      ]
     },
     "metadata": {},
     "output_type": "display_data"
    }
   ],
   "source": [
    "fig, axs = plt.subplots(nrows=1,ncols=3,sharey=True)\n",
    "fig.set_size_inches(15,5)\n",
    "fig.suptitle('Pclass',size=15)\n",
    "df1.plot.bar(stacked=True,ax=axs[0],cmap = plt.cm.RdYlGn)\n",
    "df2.plot.bar(stacked=True,ax=axs[1],cmap = plt.cm.RdYlGn)\n",
    "df3.plot.bar(stacked=True,ax=axs[2],cmap = plt.cm.RdYlGn)\n",
    "axs[0].set_ylabel('Total count')\n",
    "axs[0].set_title('1'); axs[1].set_title('2');axs[2].set_title('3');"
   ]
  },
  {
   "cell_type": "markdown",
   "metadata": {},
   "source": [
    "### Family size = sibsp + parch +1"
   ]
  },
  {
   "cell_type": "code",
   "execution_count": 110,
   "metadata": {
    "collapsed": false
   },
   "outputs": [],
   "source": [
    "data_train['Family_size'] = data_train.SibSp + data_train.Parch + 1\n",
    "data_test['Family_size'] = data_test.SibSp + data_test.Parch + 1"
   ]
  },
  {
   "cell_type": "code",
   "execution_count": 111,
   "metadata": {
    "collapsed": false
   },
   "outputs": [],
   "source": [
    "grouped =data_train.groupby(['Pclass','Family_size'])['Survived'].value_counts()\n",
    "df1 = grouped[1].unstack()\n",
    "df2 = grouped[2].unstack()\n",
    "df3 = grouped[3].unstack()"
   ]
  },
  {
   "cell_type": "code",
   "execution_count": 112,
   "metadata": {
    "collapsed": false
   },
   "outputs": [
    {
     "data": {
      "image/png": "[encoded data removed]",
      "text/plain": [
       "<matplotlib.figure.Figure at 0x7febd7dc5cc0>"
      ]
     },
     "metadata": {},
     "output_type": "display_data"
    }
   ],
   "source": [
    "fig, axs = plt.subplots(nrows=1,ncols=3,sharey=True)\n",
    "fig.set_size_inches(15,5)\n",
    "fig.suptitle('Pclass',size=15)\n",
    "df1.plot.bar(stacked=True,ax=axs[0],cmap = plt.cm.RdYlGn)\n",
    "df2.plot.bar(stacked=True,ax=axs[1],cmap = plt.cm.RdYlGn)\n",
    "df3.plot.bar(stacked=True,ax=axs[2],cmap = plt.cm.RdYlGn)\n",
    "axs[0].set_ylabel('Total count')\n",
    "axs[0].set_title('1'); axs[1].set_title('2');axs[2].set_title('3');"
   ]
  },
  {
   "cell_type": "markdown",
   "metadata": {},
   "source": [
    "### Fare"
   ]
  },
  {
   "cell_type": "code",
   "execution_count": 113,
   "metadata": {
    "collapsed": false
   },
   "outputs": [
    {
     "data": {
      "image/png": "[encoded data removed]",
      "text/plain": [
       "<matplotlib.figure.Figure at 0x7febd50ba0f0>"
      ]
     },
     "metadata": {},
     "output_type": "display_data"
    }
   ],
   "source": [
    "# Visualize with some pretty plots\n",
    "\n",
    "import seaborn as sns\n",
    "fig, axs = plt.subplots(nrows=1,ncols=3,sharey=True)\n",
    "fig.set_size_inches(15,5)\n",
    "\n",
    "df1_0 = data_train.loc[((data_train.Pclass == 1) & (data_train.Survived == 0)),'Fare']\n",
    "df1_1 = data_train.loc[((data_train.Pclass == 1) & (data_train.Survived == 1)),'Fare']\n",
    "\n",
    "sns.distplot(df1_0, hist=False, color=\"r\", kde_kws={\"shade\": True},label='0',ax=axs[0])\n",
    "sns.distplot(df1_1, hist=False, color=\"g\", kde_kws={\"shade\": True},label='1',ax=axs[0])\n",
    "\n",
    "df2_0 = data_train.loc[((data_train.Pclass == 2) & (data_train.Survived == 0)),'Fare']\n",
    "df2_1 = data_train.loc[((data_train.Pclass == 2) & (data_train.Survived == 1)),'Fare']\n",
    "\n",
    "sns.distplot(df2_0, hist=False, color=\"r\", kde_kws={\"shade\": True},label='0',ax=axs[1])\n",
    "sns.distplot(df2_1, hist=False, color=\"g\", kde_kws={\"shade\": True},label='1',ax=axs[1])\n",
    "\n",
    "df3_0 = data_train.loc[((data_train.Pclass == 3) & (data_train.Survived == 0)),'Fare']\n",
    "df3_1 = data_train.loc[((data_train.Pclass == 3) & (data_train.Survived == 1)),'Fare']\n",
    "\n",
    "sns.distplot(df3_0, hist=False, color=\"r\", kde_kws={\"shade\": True},label='0',ax=axs[2])\n",
    "sns.distplot(df3_1, hist=False, color=\"g\", kde_kws={\"shade\": True},label='1',ax=axs[2])\n",
    "axs[0].set_ylabel('Density')\n",
    "axs[0].set_title('1'); axs[1].set_title('2');axs[2].set_title('3')\n",
    "fig.suptitle('Pclass',size=15);"
   ]
  },
  {
   "cell_type": "markdown",
   "metadata": {},
   "source": [
    "### Tickets"
   ]
  },
  {
   "cell_type": "code",
   "execution_count": 114,
   "metadata": {
    "collapsed": false
   },
   "outputs": [
    {
     "name": "stdout",
     "output_type": "stream",
     "text": [
      "All passangers:             891\n",
      "Number of unique tickets:   681\n"
     ]
    }
   ],
   "source": [
    "# There are some common tickets in the train data\n",
    "print('All passangers:', '%15d' % len(data_train.Ticket))\n",
    "print('Number of unique tickets:', '%5d' % len(data_train.Ticket.unique()))"
   ]
  },
  {
   "cell_type": "code",
   "execution_count": 115,
   "metadata": {
    "collapsed": false
   },
   "outputs": [
    {
     "name": "stdout",
     "output_type": "stream",
     "text": [
      "All passangers:             418\n",
      "Number of unique tickets:   363\n"
     ]
    }
   ],
   "source": [
    "# as well as in the test data\n",
    "print('All passangers:', '%15d' % len(data_test.Ticket))\n",
    "print('Number of unique tickets:', '%5d' % len(data_test.Ticket.unique()))"
   ]
  },
  {
   "cell_type": "code",
   "execution_count": 116,
   "metadata": {
    "collapsed": false
   },
   "outputs": [],
   "source": [
    "# Cereating two associated features\n",
    "avg_fare = np.zeros(len(data_train))\n",
    "ticket_party_size = np.zeros(len(data_train))\n",
    "tickets = data_train.Ticket.unique()\n",
    "\n",
    "for i in range(len(tickets)):\n",
    "    current_ticket = tickets[i]\n",
    "    party_indx = data_train[data_train.Ticket == current_ticket].index\n",
    "    current_avg_fare = data_train.loc[party_indx[0],'Fare']/len(party_indx)\n",
    "    \n",
    "    for k in range(len(party_indx)):\n",
    "        ticket_party_size[party_indx[k]] = len(party_indx)\n",
    "        avg_fare[party_indx[k]] = current_avg_fare\n",
    "        \n",
    "data_train['Ticket_party_size'] = ticket_party_size\n",
    "data_train['Avg_fare'] = avg_fare"
   ]
  },
  {
   "cell_type": "code",
   "execution_count": 117,
   "metadata": {
    "collapsed": false
   },
   "outputs": [],
   "source": [
    "# Repeating the same for the test data\n",
    "avg_fare = np.zeros(len(data_test))\n",
    "ticket_party_size = np.zeros(len(data_test))\n",
    "tickets = data_test.Ticket.unique()\n",
    "\n",
    "for i in range(len(tickets)):\n",
    "    current_ticket = tickets[i]\n",
    "    party_indx = data_test[data_test.Ticket == current_ticket].index\n",
    "    current_avg_fare = data_test.loc[party_indx[0],'Fare']/len(party_indx)\n",
    "    \n",
    "    for k in range(len(party_indx)):\n",
    "        ticket_party_size[party_indx[k]] = len(party_indx)\n",
    "        avg_fare[party_indx[k]] = current_avg_fare\n",
    "        \n",
    "data_test['Ticket_party_size'] = ticket_party_size\n",
    "data_test['Avg_fare'] = avg_fare"
   ]
  },
  {
   "cell_type": "code",
   "execution_count": 118,
   "metadata": {
    "collapsed": false
   },
   "outputs": [
    {
     "data": {
      "text/html": [
       "<div>\n",
       "<table border=\"1\" class=\"dataframe\">\n",
       "  <thead>\n",
       "    <tr style=\"text-align: right;\">\n",
       "      <th></th>\n",
       "      <th>PassengerId</th>\n",
       "      <th>Survived</th>\n",
       "      <th>Pclass</th>\n",
       "      <th>Sex</th>\n",
       "      <th>Age</th>\n",
       "      <th>SibSp</th>\n",
       "      <th>Parch</th>\n",
       "      <th>Ticket</th>\n",
       "      <th>Fare</th>\n",
       "      <th>Cabin</th>\n",
       "      <th>Embarked</th>\n",
       "      <th>Title</th>\n",
       "      <th>Second_name</th>\n",
       "      <th>Family_size</th>\n",
       "      <th>Ticket_party_size</th>\n",
       "      <th>Avg_fare</th>\n",
       "    </tr>\n",
       "  </thead>\n",
       "  <tbody>\n",
       "  </tbody>\n",
       "</table>\n",
       "</div>"
      ],
      "text/plain": [
       "Empty DataFrame\n",
       "Columns: [PassengerId, Survived, Pclass, Sex, Age, SibSp, Parch, Ticket, Fare, Cabin, Embarked, Title, Second_name, Family_size, Ticket_party_size, Avg_fare]\n",
       "Index: []"
      ]
     },
     "execution_count": 118,
     "metadata": {},
     "output_type": "execute_result"
    }
   ],
   "source": [
    "# Are thre miising values in the new features\n",
    "# No missing values in the training set\n",
    "data_train[data_train.Avg_fare.isnull()]"
   ]
  },
  {
   "cell_type": "code",
   "execution_count": 119,
   "metadata": {
    "collapsed": false
   },
   "outputs": [
    {
     "data": {
      "text/html": [
       "<div>\n",
       "<table border=\"1\" class=\"dataframe\">\n",
       "  <thead>\n",
       "    <tr style=\"text-align: right;\">\n",
       "      <th></th>\n",
       "      <th>PassengerId</th>\n",
       "      <th>Pclass</th>\n",
       "      <th>Sex</th>\n",
       "      <th>Age</th>\n",
       "      <th>SibSp</th>\n",
       "      <th>Parch</th>\n",
       "      <th>Ticket</th>\n",
       "      <th>Fare</th>\n",
       "      <th>Cabin</th>\n",
       "      <th>Embarked</th>\n",
       "      <th>Title</th>\n",
       "      <th>Second_name</th>\n",
       "      <th>Family_size</th>\n",
       "      <th>Ticket_party_size</th>\n",
       "      <th>Avg_fare</th>\n",
       "    </tr>\n",
       "  </thead>\n",
       "  <tbody>\n",
       "    <tr>\n",
       "      <th>152</th>\n",
       "      <td>1044</td>\n",
       "      <td>3</td>\n",
       "      <td>male</td>\n",
       "      <td>60.5</td>\n",
       "      <td>0</td>\n",
       "      <td>0</td>\n",
       "      <td>3701</td>\n",
       "      <td>NaN</td>\n",
       "      <td>NaN</td>\n",
       "      <td>S</td>\n",
       "      <td>Mr.</td>\n",
       "      <td>Storey</td>\n",
       "      <td>1</td>\n",
       "      <td>1.0</td>\n",
       "      <td>NaN</td>\n",
       "    </tr>\n",
       "  </tbody>\n",
       "</table>\n",
       "</div>"
      ],
      "text/plain": [
       "     PassengerId  Pclass   Sex   Age  SibSp  Parch Ticket  Fare Cabin  \\\n",
       "152         1044       3  male  60.5      0      0   3701   NaN   NaN   \n",
       "\n",
       "    Embarked Title Second_name  Family_size  Ticket_party_size  Avg_fare  \n",
       "152        S   Mr.      Storey            1                1.0       NaN  "
      ]
     },
     "execution_count": 119,
     "metadata": {},
     "output_type": "execute_result"
    }
   ],
   "source": [
    "# One missing value in the testing set\n",
    "data_test[data_test.Avg_fare.isnull()]"
   ]
  },
  {
   "cell_type": "code",
   "execution_count": 120,
   "metadata": {
    "collapsed": false
   },
   "outputs": [
    {
     "data": {
      "text/plain": [
       "7.825"
      ]
     },
     "execution_count": 120,
     "metadata": {},
     "output_type": "execute_result"
    }
   ],
   "source": [
    "# Fixing missing value by looking at similar passengers\n",
    "df = data_test[(data_test.Pclass == 3) & (data_test.Title == 'Mr.') \n",
    "               & (data_test['Family_size']==1) & (data_test.Ticket != '3701')]\n",
    "df.Avg_fare.median()"
   ]
  },
  {
   "cell_type": "code",
   "execution_count": 121,
   "metadata": {
    "collapsed": false
   },
   "outputs": [],
   "source": [
    "data_test.loc[152,'Avg_fare'] = 7.825"
   ]
  },
  {
   "cell_type": "code",
   "execution_count": 122,
   "metadata": {
    "collapsed": false
   },
   "outputs": [],
   "source": [
    "# Normalizing new features\n",
    "from sklearn import preprocessing\n",
    "\n",
    "data_train.Avg_fare = preprocessing.scale(data_train['Avg_fare'])\n",
    "data_train.Ticket_party_size = preprocessing.scale(data_train['Ticket_party_size'])\n",
    "data_test.Avg_fare = preprocessing.scale(data_test['Avg_fare'])\n",
    "data_test.Ticket_party_size = preprocessing.scale(data_test['Ticket_party_size'])"
   ]
  },
  {
   "cell_type": "code",
   "execution_count": 123,
   "metadata": {
    "collapsed": false
   },
   "outputs": [
    {
     "data": {
      "image/png": "[encoded data removed]",
      "text/plain": [
       "<matplotlib.figure.Figure at 0x7febd508f390>"
      ]
     },
     "metadata": {},
     "output_type": "display_data"
    }
   ],
   "source": [
    "# Visualizing new features\n",
    "df = data_train[(data_train.Title == 'Mr.') & (data_train.Pclass == 1)]\n",
    "df1 = df.groupby('Survived').get_group(1)['Avg_fare']\n",
    "df0 = df.groupby('Survived').get_group(0)['Avg_fare']\n",
    "\n",
    "\n",
    "sns.distplot(df0, hist=False, color=\"r\", kde_kws={\"shade\": True},label='0')\n",
    "sns.distplot(df1, hist=False, color=\"g\", kde_kws={\"shade\": True},label='1')\n",
    "topbar = plt.Rectangle((0,0),1,1,fc=\"red\", edgecolor = 'none',alpha=0.5)\n",
    "bottombar = plt.Rectangle((0,0),1,1,fc='green',  edgecolor = 'none',alpha=0.5)\n",
    "plt.legend([topbar,bottombar],[0,1])\n",
    "plt.ylabel('density')\n",
    "plt.title('Mr., 1st class');"
   ]
  },
  {
   "cell_type": "code",
   "execution_count": 124,
   "metadata": {
    "collapsed": false
   },
   "outputs": [
    {
     "data": {
      "image/png": "[encoded data removed]",
      "text/plain": [
       "<matplotlib.figure.Figure at 0x7febd5187198>"
      ]
     },
     "metadata": {},
     "output_type": "display_data"
    }
   ],
   "source": [
    "fig, axs = plt.subplots(nrows=1,ncols=3,sharey=False)\n",
    "fig.set_size_inches(15,5)\n",
    "\n",
    "df1_0 = data_train.loc[((data_train.Pclass == 1) & (data_train.Survived == 0)),'Avg_fare']\n",
    "df1_1 = data_train.loc[((data_train.Pclass == 1) & (data_train.Survived == 1)),'Avg_fare']\n",
    "\n",
    "sns.distplot(df1_0, hist=False, color=\"r\", kde_kws={\"shade\": True},label='0',ax=axs[0])\n",
    "sns.distplot(df1_1, hist=False, color=\"g\", kde_kws={\"shade\": True},label='1',ax=axs[0])\n",
    "\n",
    "df2_0 = data_train.loc[((data_train.Pclass == 2) & (data_train.Survived == 0)),'Avg_fare']\n",
    "df2_1 = data_train.loc[((data_train.Pclass == 2) & (data_train.Survived == 1)),'Avg_fare']\n",
    "\n",
    "sns.distplot(df2_0, hist=False, color=\"r\", kde_kws={\"shade\": True},label='0',ax=axs[1])\n",
    "sns.distplot(df2_1, hist=False, color=\"g\", kde_kws={\"shade\": True},label='1',ax=axs[1])\n",
    "\n",
    "df3_0 = data_train.loc[((data_train.Pclass == 3) & (data_train.Survived == 0)),'Avg_fare']\n",
    "df3_1 = data_train.loc[((data_train.Pclass == 3) & (data_train.Survived == 1)),'Avg_fare']\n",
    "\n",
    "sns.distplot(df3_0, hist=False, color=\"r\", kde_kws={\"shade\": True},label='0',ax=axs[2])\n",
    "sns.distplot(df3_1, hist=False, color=\"g\", kde_kws={\"shade\": True},label='1',ax=axs[2])\n",
    "axs[0].set_ylabel('Density')\n",
    "axs[0].set_title('1'); axs[1].set_title('2');axs[2].set_title('3')\n",
    "fig.suptitle('Pclass',size=15);"
   ]
  },
  {
   "cell_type": "code",
   "execution_count": 125,
   "metadata": {
    "collapsed": true
   },
   "outputs": [],
   "source": [
    "# Helper function to extract first char of a ticket\n",
    "def extract_first_char(ticket):\n",
    "    return ticket.strip()[0]"
   ]
  },
  {
   "cell_type": "code",
   "execution_count": 126,
   "metadata": {
    "collapsed": false
   },
   "outputs": [
    {
     "data": {
      "text/plain": [
       "array(['A', 'P', 'S', '1', '3', '2', 'C', '7', 'W', '4', 'F', 'L', '9',\n",
       "       '6', '5', '8'], dtype=object)"
      ]
     },
     "execution_count": 126,
     "metadata": {},
     "output_type": "execute_result"
    }
   ],
   "source": [
    "ticket_first_char = data_train.Ticket.apply(extract_first_char)\n",
    "ticket_first_char.unique()"
   ]
  },
  {
   "cell_type": "code",
   "execution_count": 127,
   "metadata": {
    "collapsed": true
   },
   "outputs": [],
   "source": [
    "data_train['Ticket_first_char'] = ticket_first_char"
   ]
  },
  {
   "cell_type": "code",
   "execution_count": 128,
   "metadata": {
    "collapsed": true
   },
   "outputs": [],
   "source": [
    "# Reperat the same for the test data\n",
    "ticket_first_char_test = data_test.Ticket.apply(extract_first_char)\n",
    "data_test['Ticket_first_char'] = ticket_first_char"
   ]
  },
  {
   "cell_type": "code",
   "execution_count": 129,
   "metadata": {
    "collapsed": false
   },
   "outputs": [],
   "source": [
    "df = data_train.groupby('Ticket_first_char')['Survived'].value_counts()\n",
    "df = df.unstack()"
   ]
  },
  {
   "cell_type": "code",
   "execution_count": 130,
   "metadata": {
    "collapsed": false
   },
   "outputs": [
    {
     "data": {
      "image/png": "[encoded data removed]",
      "text/plain": [
       "<matplotlib.figure.Figure at 0x7febd51eddd8>"
      ]
     },
     "metadata": {},
     "output_type": "display_data"
    }
   ],
   "source": [
    "df.plot.bar(stacked=True,figsize = (8,6),cmap = plt.cm.RdYlGn)\n",
    "plt.ylabel('Total count')\n",
    "plt.xticks(rotation = 'horizontal');"
   ]
  },
  {
   "cell_type": "code",
   "execution_count": null,
   "metadata": {
    "collapsed": true
   },
   "outputs": [],
   "source": []
  },
  {
   "cell_type": "code",
   "execution_count": null,
   "metadata": {
    "collapsed": true
   },
   "outputs": [],
   "source": []
  },
  {
   "cell_type": "code",
   "execution_count": null,
   "metadata": {
    "collapsed": true
   },
   "outputs": [],
   "source": []
  },
  {
   "cell_type": "code",
   "execution_count": null,
   "metadata": {
    "collapsed": true
   },
   "outputs": [],
   "source": []
  },
  {
   "cell_type": "code",
   "execution_count": null,
   "metadata": {
    "collapsed": true
   },
   "outputs": [],
   "source": []
  },
  {
   "cell_type": "code",
   "execution_count": null,
   "metadata": {
    "collapsed": true
   },
   "outputs": [],
   "source": []
  },
  {
   "cell_type": "code",
   "execution_count": null,
   "metadata": {
    "collapsed": true
   },
   "outputs": [],
   "source": []
  },
  {
   "cell_type": "code",
   "execution_count": null,
   "metadata": {
    "collapsed": true
   },
   "outputs": [],
   "source": []
  },
  {
   "cell_type": "code",
   "execution_count": null,
   "metadata": {
    "collapsed": true
   },
   "outputs": [],
   "source": []
  },
  {
   "cell_type": "code",
   "execution_count": null,
   "metadata": {
    "collapsed": true
   },
   "outputs": [],
   "source": []
  },
  {
   "cell_type": "code",
   "execution_count": null,
   "metadata": {
    "collapsed": true
   },
   "outputs": [],
   "source": []
  },
  {
   "cell_type": "markdown",
   "metadata": {},
   "source": [
    "# Mashine learning"
   ]
  },
  {
   "cell_type": "code",
   "execution_count": 131,
   "metadata": {
    "collapsed": true
   },
   "outputs": [],
   "source": [
    "from sklearn.preprocessing import LabelEncoder\n",
    "from sklearn.feature_extraction import DictVectorizer\n",
    "from sklearn import metrics\n",
    "from sklearn import cross_validation\n",
    "from sklearn.ensemble import RandomForestClassifier\n",
    "from sklearn import tree"
   ]
  },
  {
   "cell_type": "code",
   "execution_count": 132,
   "metadata": {
    "collapsed": false
   },
   "outputs": [
    {
     "name": "stdout",
     "output_type": "stream",
     "text": [
      "['PassengerId' 'Survived' 'Pclass' 'Sex' 'Age' 'SibSp' 'Parch' 'Ticket'\n",
      " 'Fare' 'Cabin' 'Embarked' 'Title' 'Second_name' 'Family_size'\n",
      " 'Ticket_party_size' 'Avg_fare' 'Ticket_first_char']\n"
     ]
    }
   ],
   "source": [
    "# Column names\n",
    "print(data_train.columns.values)"
   ]
  },
  {
   "cell_type": "code",
   "execution_count": 133,
   "metadata": {
    "collapsed": true
   },
   "outputs": [],
   "source": [
    "features = ['Sex','Pclass','Family_size','Avg_fare','Ticket_party_size']"
   ]
  },
  {
   "cell_type": "markdown",
   "metadata": {},
   "source": [
    "### One tree"
   ]
  },
  {
   "cell_type": "code",
   "execution_count": 134,
   "metadata": {
    "collapsed": false,
    "scrolled": true
   },
   "outputs": [
    {
     "name": "stdout",
     "output_type": "stream",
     "text": [
      "Score:\n",
      " \t 0.922558922559 \n",
      "\n",
      "-------------------------------------\n",
      "Report:\n",
      "              precision    recall  f1-score   support\n",
      "\n",
      "          0       0.91      0.97      0.94       549\n",
      "          1       0.95      0.84      0.89       342\n",
      "\n",
      "avg / total       0.92      0.92      0.92       891\n",
      "\n",
      "-------------------------------------\n",
      "Score after cross validation:\n",
      " \t 0.792368125701 +/- 0.0126977648698 \n",
      "\n",
      "\t [ 0.8013468   0.8013468   0.77441077]\n"
     ]
    }
   ],
   "source": [
    "\n",
    "X_feature =data_train[features]\n",
    "y = data_train['Survived']\n",
    "\n",
    "X_dict=X_feature.T.to_dict().values()\n",
    "\n",
    "vect = DictVectorizer(sparse=False)\n",
    "X_train = vect.fit_transform(X_dict)\n",
    "\n",
    "#le = LabelEncoder()\n",
    "y_train = y #le.fit_transform(y)\n",
    "\n",
    "clf_tree = tree.DecisionTreeClassifier(criterion='entropy')\n",
    "clf_tree.fit(X_train,y_train)\n",
    "Train_predict = clf_tree.predict(X_train)\n",
    "\n",
    "print('Score:\\n','\\t', metrics.accuracy_score(y_train,Train_predict),'\\n') \n",
    "print('-------------------------------------')\n",
    "print('Report:\\n', metrics.classification_report(y_train,Train_predict))\n",
    "\n",
    "n_folds = 3\n",
    "k_fold = cross_validation.KFold(len(X_train),n_folds=n_folds,shuffle=True)\n",
    "scores = cross_validation.cross_val_score(clf_tree,X_train,y_train,cv=k_fold)\n",
    "print('-------------------------------------')\n",
    "print('Score after cross validation:\\n', '\\t',scores.mean(),'+/-',scores.std(),'\\n\\n\\t',scores)"
   ]
  },
  {
   "cell_type": "markdown",
   "metadata": {
    "collapsed": true
   },
   "source": [
    "## Invoking Random forest"
   ]
  },
  {
   "cell_type": "code",
   "execution_count": 135,
   "metadata": {
    "collapsed": true
   },
   "outputs": [],
   "source": [
    "def RF(y_train,X_train,n = 1000):\n",
    "    clf_rf = RandomForestClassifier(n_estimators=n, criterion='entropy',\n",
    "                                    oob_score=True,n_jobs=-1)\n",
    "    clf_rf.fit(X_train,y_train)\n",
    "\n",
    "    Train_predict = clf_rf.predict(X_train)    \n",
    "\n",
    "    print('Score on the original data:\\n','\\t', metrics.accuracy_score(y_train,Train_predict),'\\n') \n",
    "    print('OOB score:\\n\\t',clf_rf.oob_score_)\n",
    "    \n",
    "    return clf_rf"
   ]
  },
  {
   "cell_type": "code",
   "execution_count": 136,
   "metadata": {
    "collapsed": false
   },
   "outputs": [
    {
     "name": "stdout",
     "output_type": "stream",
     "text": [
      "Score on the original data:\n",
      " \t 0.922558922559 \n",
      "\n",
      "OOB score:\n",
      "\t 0.808080808081\n"
     ]
    }
   ],
   "source": [
    "clf = RF(y_train,X_train)"
   ]
  },
  {
   "cell_type": "code",
   "execution_count": 137,
   "metadata": {
    "collapsed": false
   },
   "outputs": [],
   "source": [
    "# Making prediction\n",
    "\n",
    "X_test = data_test[features]\n",
    "\n",
    "X_dict=X_test.T.to_dict().values()\n",
    "\n",
    "vect = DictVectorizer(sparse=False)\n",
    "X_test = vect.fit_transform(X_dict)\n",
    "\n",
    "y_predict = clf.predict(X_test)"
   ]
  },
  {
   "cell_type": "code",
   "execution_count": 138,
   "metadata": {
    "collapsed": false
   },
   "outputs": [
    {
     "data": {
      "text/plain": [
       "0.27751196172248804"
      ]
     },
     "execution_count": 138,
     "metadata": {},
     "output_type": "execute_result"
    }
   ],
   "source": [
    "y_predict.sum()/len(y_predict)"
   ]
  },
  {
   "cell_type": "code",
   "execution_count": 348,
   "metadata": {
    "collapsed": true
   },
   "outputs": [],
   "source": [
    "submit_df = pd.DataFrame({'PassengerId': np.arange(892,1310), 'Survived': y_predict})\n",
    "submit_df.to_csv(\"RF_SUB_20160706_2.csv\",index=False)"
   ]
  },
  {
   "cell_type": "code",
   "execution_count": null,
   "metadata": {
    "collapsed": true
   },
   "outputs": [],
   "source": []
  },
  {
   "cell_type": "code",
   "execution_count": null,
   "metadata": {
    "collapsed": true
   },
   "outputs": [],
   "source": []
  },
  {
   "cell_type": "code",
   "execution_count": null,
   "metadata": {
    "collapsed": true
   },
   "outputs": [],
   "source": []
  },
  {
   "cell_type": "code",
   "execution_count": null,
   "metadata": {
    "collapsed": true
   },
   "outputs": [],
   "source": []
  },
  {
   "cell_type": "code",
   "execution_count": null,
   "metadata": {
    "collapsed": true
   },
   "outputs": [],
   "source": []
  },
  {
   "cell_type": "code",
   "execution_count": null,
   "metadata": {
    "collapsed": true
   },
   "outputs": [],
   "source": []
  },
  {
   "cell_type": "code",
   "execution_count": null,
   "metadata": {
    "collapsed": true
   },
   "outputs": [],
   "source": []
  },
  {
   "cell_type": "code",
   "execution_count": null,
   "metadata": {
    "collapsed": true
   },
   "outputs": [],
   "source": []
  },
  {
   "cell_type": "code",
   "execution_count": null,
   "metadata": {
    "collapsed": true
   },
   "outputs": [],
   "source": []
  },
  {
   "cell_type": "code",
   "execution_count": null,
   "metadata": {
    "collapsed": true
   },
   "outputs": [],
   "source": []
  },
  {
   "cell_type": "code",
   "execution_count": null,
   "metadata": {
    "collapsed": true
   },
   "outputs": [],
   "source": []
  },
  {
   "cell_type": "code",
   "execution_count": 144,
   "metadata": {
    "collapsed": true
   },
   "outputs": [],
   "source": [
    "import os\n",
    "from IPython.display import Image "
   ]
  },
  {
   "cell_type": "code",
   "execution_count": 145,
   "metadata": {
    "collapsed": false
   },
   "outputs": [
    {
     "data": {
      "text/plain": [
       "0"
      ]
     },
     "execution_count": 145,
     "metadata": {},
     "output_type": "execute_result"
    }
   ],
   "source": [
    "#from sklearn.externals.six import StringIO\n",
    "with open(\"tree.dot\", 'w') as f:\n",
    "    f = tree.export_graphviz(clf, out_file=f)\n",
    "\n",
    "os.system('dot -Tpng tree.dot -o tree.png')\n",
    "Image('tree.png')"
   ]
  },
  {
   "cell_type": "code",
   "execution_count": null,
   "metadata": {
    "collapsed": true
   },
   "outputs": [],
   "source": []
  }
 ],
 "metadata": {
  "kernelspec": {
   "display_name": "Python 3",
   "language": "python",
   "name": "python3"
  },
  "language_info": {
   "codemirror_mode": {
    "name": "ipython",
    "version": 3
   },
   "file_extension": ".py",
   "mimetype": "text/x-python",
   "name": "python",
   "nbconvert_exporter": "python",
   "pygments_lexer": "ipython3",
   "version": "3.5.1"
  }
 },
 "nbformat": 4,
 "nbformat_minor": 0
}
