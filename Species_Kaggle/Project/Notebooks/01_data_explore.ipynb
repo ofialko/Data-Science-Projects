{
 "cells": [
  {
   "cell_type": "code",
   "execution_count": 1,
   "metadata": {},
   "outputs": [],
   "source": [
    "%load_ext autoreload\n",
    "%autoreload 2"
   ]
  },
  {
   "cell_type": "code",
   "execution_count": 41,
   "metadata": {},
   "outputs": [],
   "source": [
    "from src.data_utils import data_path, list_files, extract_files, archive_file\n"
   ]
  },
  {
   "cell_type": "markdown",
   "metadata": {},
   "source": [
    "## Extract files"
   ]
  },
  {
   "cell_type": "code",
   "execution_count": 38,
   "metadata": {},
   "outputs": [
    {
     "name": "stdout",
     "output_type": "stream",
     "text": [
      "['sample_submission.csv', 'train_fp.csv', 'train_tp.csv']\n"
     ]
    }
   ],
   "source": [
    "files = list_files()\n",
    "\n",
    "files_csv=[f for f in files if f.endswith('csv')]\n",
    "\n",
    "print(files_csv)"
   ]
  },
  {
   "cell_type": "code",
   "execution_count": 39,
   "metadata": {},
   "outputs": [
    {
     "name": "stderr",
     "output_type": "stream",
     "text": [
      "2020-12-19 04:20:35,816 INFO     pid:92 src.data_utils:027:extract_files Extracting sample_submission.csv ...\n",
      "2020-12-19 04:20:35,835 INFO     pid:92 src.data_utils:027:extract_files Extracting train_fp.csv ...\n",
      "2020-12-19 04:20:35,869 INFO     pid:92 src.data_utils:027:extract_files Extracting train_tp.csv ...\n"
     ]
    }
   ],
   "source": [
    "extract_files(files_csv)"
   ]
  },
  {
   "cell_type": "markdown",
   "metadata": {},
   "source": [
    "## Explore "
   ]
  },
  {
   "cell_type": "code",
   "execution_count": null,
   "metadata": {},
   "outputs": [],
   "source": []
  }
 ],
 "metadata": {
  "kernelspec": {
   "display_name": "Python 3",
   "language": "python",
   "name": "python3"
  },
  "language_info": {
   "codemirror_mode": {
    "name": "ipython",
    "version": 3
   },
   "file_extension": ".py",
   "mimetype": "text/x-python",
   "name": "python",
   "nbconvert_exporter": "python",
   "pygments_lexer": "ipython3",
   "version": "3.8.6"
  }
 },
 "nbformat": 4,
 "nbformat_minor": 4
}
